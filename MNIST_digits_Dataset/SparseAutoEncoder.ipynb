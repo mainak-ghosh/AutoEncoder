{
 "cells": [
  {
   "cell_type": "code",
   "execution_count": 23,
   "metadata": {},
   "outputs": [],
   "source": [
    "from keras.models import Model\n",
    "from keras.layers import Input, Dense\n",
    "from keras.datasets import mnist\n",
    "from keras import regularizers\n",
    "\n",
    "from keras.callbacks import History\n",
    "history = History()\n",
    "\n",
    "from keras.callbacks import EarlyStopping\n",
    "stop_here_please = EarlyStopping(monitor='val_loss', mode='min', verbose=1, patience=10)\n",
    "\n",
    "import numpy as np\n",
    "import matplotlib.pyplot as plt"
   ]
  },
  {
   "cell_type": "markdown",
   "metadata": {},
   "source": [
    "# Model"
   ]
  },
  {
   "cell_type": "code",
   "execution_count": 24,
   "metadata": {},
   "outputs": [],
   "source": [
    "encoding_dim = 256\n",
    "input_img = Input(shape=(784,))\n",
    "# add a Dense layer with a L1 activity regularizer\n",
    "encoded = Dense(encoding_dim, activation='relu',\n",
    "                activity_regularizer=regularizers.l1(10e-8))(input_img)\n",
    "decoded = Dense(784, activation='sigmoid')(encoded)\n",
    "\n",
    "autoencoder = Model(input_img, decoded)"
   ]
  },
  {
   "cell_type": "code",
   "execution_count": 25,
   "metadata": {},
   "outputs": [
    {
     "name": "stdout",
     "output_type": "stream",
     "text": [
      "Model: \"model_3\"\n",
      "_________________________________________________________________\n",
      "Layer (type)                 Output Shape              Param #   \n",
      "=================================================================\n",
      "input_3 (InputLayer)         (None, 784)               0         \n",
      "_________________________________________________________________\n",
      "dense_5 (Dense)              (None, 256)               200960    \n",
      "_________________________________________________________________\n",
      "dense_6 (Dense)              (None, 784)               201488    \n",
      "=================================================================\n",
      "Total params: 402,448\n",
      "Trainable params: 402,448\n",
      "Non-trainable params: 0\n",
      "_________________________________________________________________\n"
     ]
    }
   ],
   "source": [
    "autoencoder.compile(optimizer='adadelta', loss = 'binary_crossentropy', metrics = ['accuracy'])\n",
    "autoencoder.summary()"
   ]
  },
  {
   "cell_type": "code",
   "execution_count": null,
   "metadata": {},
   "outputs": [],
   "source": []
  },
  {
   "cell_type": "markdown",
   "metadata": {},
   "source": [
    "# Load mnist Dataset"
   ]
  },
  {
   "cell_type": "code",
   "execution_count": 26,
   "metadata": {},
   "outputs": [],
   "source": [
    "(x_train, _),(x_test,_) = mnist.load_data()"
   ]
  },
  {
   "cell_type": "code",
   "execution_count": 27,
   "metadata": {},
   "outputs": [
    {
     "data": {
      "text/plain": [
       "array([[[0, 0, 0, ..., 0, 0, 0],\n",
       "        [0, 0, 0, ..., 0, 0, 0],\n",
       "        [0, 0, 0, ..., 0, 0, 0],\n",
       "        ...,\n",
       "        [0, 0, 0, ..., 0, 0, 0],\n",
       "        [0, 0, 0, ..., 0, 0, 0],\n",
       "        [0, 0, 0, ..., 0, 0, 0]],\n",
       "\n",
       "       [[0, 0, 0, ..., 0, 0, 0],\n",
       "        [0, 0, 0, ..., 0, 0, 0],\n",
       "        [0, 0, 0, ..., 0, 0, 0],\n",
       "        ...,\n",
       "        [0, 0, 0, ..., 0, 0, 0],\n",
       "        [0, 0, 0, ..., 0, 0, 0],\n",
       "        [0, 0, 0, ..., 0, 0, 0]],\n",
       "\n",
       "       [[0, 0, 0, ..., 0, 0, 0],\n",
       "        [0, 0, 0, ..., 0, 0, 0],\n",
       "        [0, 0, 0, ..., 0, 0, 0],\n",
       "        ...,\n",
       "        [0, 0, 0, ..., 0, 0, 0],\n",
       "        [0, 0, 0, ..., 0, 0, 0],\n",
       "        [0, 0, 0, ..., 0, 0, 0]],\n",
       "\n",
       "       ...,\n",
       "\n",
       "       [[0, 0, 0, ..., 0, 0, 0],\n",
       "        [0, 0, 0, ..., 0, 0, 0],\n",
       "        [0, 0, 0, ..., 0, 0, 0],\n",
       "        ...,\n",
       "        [0, 0, 0, ..., 0, 0, 0],\n",
       "        [0, 0, 0, ..., 0, 0, 0],\n",
       "        [0, 0, 0, ..., 0, 0, 0]],\n",
       "\n",
       "       [[0, 0, 0, ..., 0, 0, 0],\n",
       "        [0, 0, 0, ..., 0, 0, 0],\n",
       "        [0, 0, 0, ..., 0, 0, 0],\n",
       "        ...,\n",
       "        [0, 0, 0, ..., 0, 0, 0],\n",
       "        [0, 0, 0, ..., 0, 0, 0],\n",
       "        [0, 0, 0, ..., 0, 0, 0]],\n",
       "\n",
       "       [[0, 0, 0, ..., 0, 0, 0],\n",
       "        [0, 0, 0, ..., 0, 0, 0],\n",
       "        [0, 0, 0, ..., 0, 0, 0],\n",
       "        ...,\n",
       "        [0, 0, 0, ..., 0, 0, 0],\n",
       "        [0, 0, 0, ..., 0, 0, 0],\n",
       "        [0, 0, 0, ..., 0, 0, 0]]], dtype=uint8)"
      ]
     },
     "execution_count": 27,
     "metadata": {},
     "output_type": "execute_result"
    }
   ],
   "source": [
    "x_train"
   ]
  },
  {
   "cell_type": "code",
   "execution_count": 28,
   "metadata": {},
   "outputs": [
    {
     "data": {
      "text/plain": [
       "(60000, 28, 28)"
      ]
     },
     "execution_count": 28,
     "metadata": {},
     "output_type": "execute_result"
    }
   ],
   "source": [
    "x_train.shape"
   ]
  },
  {
   "cell_type": "code",
   "execution_count": 29,
   "metadata": {},
   "outputs": [
    {
     "data": {
      "text/plain": [
       "784"
      ]
     },
     "execution_count": 29,
     "metadata": {},
     "output_type": "execute_result"
    }
   ],
   "source": [
    "np.prod(x_train.shape[1:])"
   ]
  },
  {
   "cell_type": "code",
   "execution_count": 30,
   "metadata": {},
   "outputs": [
    {
     "name": "stdout",
     "output_type": "stream",
     "text": [
      "x_train shape = (60000, 784)\n",
      "x_test shape = (10000, 784)\n"
     ]
    }
   ],
   "source": [
    "x_train = x_train.astype('float32')/255\n",
    "x_test = x_test.astype('float32')/255\n",
    "x_train = x_train.reshape((len(x_train), (np.prod(x_train.shape[1:]))))\n",
    "x_test = x_test.reshape((len(x_test), (np.prod(x_test.shape[1:]))))\n",
    "print(f'x_train shape = {x_train.shape}')\n",
    "print(f'x_test shape = {x_test.shape}')\n"
   ]
  },
  {
   "cell_type": "markdown",
   "metadata": {},
   "source": [
    "# Fit Data"
   ]
  },
  {
   "cell_type": "code",
   "execution_count": 31,
   "metadata": {},
   "outputs": [
    {
     "name": "stdout",
     "output_type": "stream",
     "text": [
      "Train on 60000 samples, validate on 10000 samples\n",
      "Epoch 1/100\n",
      "60000/60000 [==============================] - 5s 77us/step - loss: 0.3929 - accuracy: 0.7476 - val_loss: 0.2838 - val_accuracy: 0.7963\n",
      "Epoch 2/100\n",
      "60000/60000 [==============================] - 4s 73us/step - loss: 0.2764 - accuracy: 0.7985 - val_loss: 0.2675 - val_accuracy: 0.8000\n",
      "Epoch 3/100\n",
      "60000/60000 [==============================] - 4s 72us/step - loss: 0.2607 - accuracy: 0.8007 - val_loss: 0.2516 - val_accuracy: 0.7996\n",
      "Epoch 4/100\n",
      "60000/60000 [==============================] - 4s 72us/step - loss: 0.2452 - accuracy: 0.8009 - val_loss: 0.2365 - val_accuracy: 0.8001\n",
      "Epoch 5/100\n",
      "60000/60000 [==============================] - 4s 73us/step - loss: 0.2315 - accuracy: 0.8011 - val_loss: 0.2238 - val_accuracy: 0.8009\n",
      "Epoch 6/100\n",
      "60000/60000 [==============================] - 4s 73us/step - loss: 0.2200 - accuracy: 0.8016 - val_loss: 0.2134 - val_accuracy: 0.8017\n",
      "Epoch 7/100\n",
      "60000/60000 [==============================] - 5s 78us/step - loss: 0.2105 - accuracy: 0.8023 - val_loss: 0.2047 - val_accuracy: 0.8021\n",
      "Epoch 8/100\n",
      "60000/60000 [==============================] - 5s 81us/step - loss: 0.2027 - accuracy: 0.8031 - val_loss: 0.1976 - val_accuracy: 0.8029\n",
      "Epoch 9/100\n",
      "60000/60000 [==============================] - 5s 82us/step - loss: 0.1961 - accuracy: 0.8038 - val_loss: 0.1916 - val_accuracy: 0.8040\n",
      "Epoch 10/100\n",
      "60000/60000 [==============================] - 5s 80us/step - loss: 0.1904 - accuracy: 0.8045 - val_loss: 0.1862 - val_accuracy: 0.8045\n",
      "Epoch 11/100\n",
      "60000/60000 [==============================] - 5s 80us/step - loss: 0.1854 - accuracy: 0.8052 - val_loss: 0.1816 - val_accuracy: 0.8050\n",
      "Epoch 12/100\n",
      "60000/60000 [==============================] - 6s 104us/step - loss: 0.1810 - accuracy: 0.8058 - val_loss: 0.1774 - val_accuracy: 0.8056\n",
      "Epoch 13/100\n",
      "60000/60000 [==============================] - 6s 96us/step - loss: 0.1769 - accuracy: 0.8063 - val_loss: 0.1735 - val_accuracy: 0.8061\n",
      "Epoch 14/100\n",
      "60000/60000 [==============================] - 6s 99us/step - loss: 0.1732 - accuracy: 0.8069 - val_loss: 0.1700 - val_accuracy: 0.8067\n",
      "Epoch 15/100\n",
      "60000/60000 [==============================] - 6s 96us/step - loss: 0.1699 - accuracy: 0.8074 - val_loss: 0.1667 - val_accuracy: 0.8070\n",
      "Epoch 16/100\n",
      "60000/60000 [==============================] - 5s 81us/step - loss: 0.1667 - accuracy: 0.8078 - val_loss: 0.1637 - val_accuracy: 0.8074\n",
      "Epoch 17/100\n",
      "60000/60000 [==============================] - 5s 83us/step - loss: 0.1638 - accuracy: 0.8082 - val_loss: 0.1609 - val_accuracy: 0.8078\n",
      "Epoch 18/100\n",
      "60000/60000 [==============================] - 5s 80us/step - loss: 0.1611 - accuracy: 0.8086 - val_loss: 0.1582 - val_accuracy: 0.8081\n",
      "Epoch 19/100\n",
      "60000/60000 [==============================] - 5s 80us/step - loss: 0.1585 - accuracy: 0.8089 - val_loss: 0.1558 - val_accuracy: 0.8085\n",
      "Epoch 20/100\n",
      "60000/60000 [==============================] - 5s 79us/step - loss: 0.1561 - accuracy: 0.8093 - val_loss: 0.1534 - val_accuracy: 0.8087\n",
      "Epoch 21/100\n",
      "60000/60000 [==============================] - 5s 83us/step - loss: 0.1539 - accuracy: 0.8096 - val_loss: 0.1512 - val_accuracy: 0.8090\n",
      "Epoch 22/100\n",
      "60000/60000 [==============================] - 5s 81us/step - loss: 0.1517 - accuracy: 0.8098 - val_loss: 0.1492 - val_accuracy: 0.8094\n",
      "Epoch 23/100\n",
      "60000/60000 [==============================] - 5s 82us/step - loss: 0.1497 - accuracy: 0.8101 - val_loss: 0.1472 - val_accuracy: 0.8095\n",
      "Epoch 24/100\n",
      "60000/60000 [==============================] - 5s 84us/step - loss: 0.1478 - accuracy: 0.8104 - val_loss: 0.1453 - val_accuracy: 0.8098\n",
      "Epoch 25/100\n",
      "60000/60000 [==============================] - 5s 83us/step - loss: 0.1460 - accuracy: 0.8106 - val_loss: 0.1436 - val_accuracy: 0.8100\n",
      "Epoch 26/100\n",
      "60000/60000 [==============================] - 5s 81us/step - loss: 0.1443 - accuracy: 0.8108 - val_loss: 0.1419 - val_accuracy: 0.8102\n",
      "Epoch 27/100\n",
      "60000/60000 [==============================] - 5s 80us/step - loss: 0.1427 - accuracy: 0.8110 - val_loss: 0.1403 - val_accuracy: 0.8104\n",
      "Epoch 28/100\n",
      "60000/60000 [==============================] - 5s 91us/step - loss: 0.1411 - accuracy: 0.8112 - val_loss: 0.1387 - val_accuracy: 0.8105\n",
      "Epoch 29/100\n",
      "60000/60000 [==============================] - 5s 90us/step - loss: 0.1396 - accuracy: 0.8114 - val_loss: 0.1373 - val_accuracy: 0.8107\n",
      "Epoch 30/100\n",
      "60000/60000 [==============================] - 5s 85us/step - loss: 0.1381 - accuracy: 0.8116 - val_loss: 0.1358 - val_accuracy: 0.8108\n",
      "Epoch 31/100\n",
      "60000/60000 [==============================] - 5s 84us/step - loss: 0.1368 - accuracy: 0.8117 - val_loss: 0.1345 - val_accuracy: 0.8110\n",
      "Epoch 32/100\n",
      "60000/60000 [==============================] - 6s 96us/step - loss: 0.1354 - accuracy: 0.8119 - val_loss: 0.1332 - val_accuracy: 0.8112\n",
      "Epoch 33/100\n",
      "60000/60000 [==============================] - 6s 105us/step - loss: 0.1341 - accuracy: 0.8120 - val_loss: 0.1319 - val_accuracy: 0.8113\n",
      "Epoch 34/100\n",
      "60000/60000 [==============================] - 6s 102us/step - loss: 0.1329 - accuracy: 0.8122 - val_loss: 0.1307 - val_accuracy: 0.8114\n",
      "Epoch 35/100\n",
      "60000/60000 [==============================] - 6s 98us/step - loss: 0.1317 - accuracy: 0.8123 - val_loss: 0.1296 - val_accuracy: 0.8116\n",
      "Epoch 36/100\n",
      "60000/60000 [==============================] - 5s 89us/step - loss: 0.1305 - accuracy: 0.8124 - val_loss: 0.1284 - val_accuracy: 0.8117\n",
      "Epoch 37/100\n",
      "60000/60000 [==============================] - 5s 81us/step - loss: 0.1294 - accuracy: 0.8126 - val_loss: 0.1273 - val_accuracy: 0.8118\n",
      "Epoch 38/100\n",
      "60000/60000 [==============================] - 5s 83us/step - loss: 0.1283 - accuracy: 0.8127 - val_loss: 0.1262 - val_accuracy: 0.8119\n",
      "Epoch 39/100\n",
      "60000/60000 [==============================] - 5s 77us/step - loss: 0.1273 - accuracy: 0.8128 - val_loss: 0.1252 - val_accuracy: 0.8120\n",
      "Epoch 40/100\n",
      "60000/60000 [==============================] - 4s 74us/step - loss: 0.1263 - accuracy: 0.8129 - val_loss: 0.1242 - val_accuracy: 0.8121\n",
      "Epoch 41/100\n",
      "60000/60000 [==============================] - 5s 75us/step - loss: 0.1253 - accuracy: 0.8130 - val_loss: 0.1233 - val_accuracy: 0.8122\n",
      "Epoch 42/100\n",
      "60000/60000 [==============================] - 5s 79us/step - loss: 0.1244 - accuracy: 0.8131 - val_loss: 0.1224 - val_accuracy: 0.8123\n",
      "Epoch 43/100\n",
      "60000/60000 [==============================] - 5s 83us/step - loss: 0.1234 - accuracy: 0.8132 - val_loss: 0.1215 - val_accuracy: 0.8123\n",
      "Epoch 44/100\n",
      "60000/60000 [==============================] - 4s 73us/step - loss: 0.1226 - accuracy: 0.8132 - val_loss: 0.1206 - val_accuracy: 0.8124\n",
      "Epoch 45/100\n",
      "60000/60000 [==============================] - 5s 89us/step - loss: 0.1217 - accuracy: 0.8133 - val_loss: 0.1198 - val_accuracy: 0.8125\n",
      "Epoch 46/100\n",
      "60000/60000 [==============================] - 4s 73us/step - loss: 0.1209 - accuracy: 0.8134 - val_loss: 0.1190 - val_accuracy: 0.8125\n",
      "Epoch 47/100\n",
      "60000/60000 [==============================] - 4s 71us/step - loss: 0.1201 - accuracy: 0.8135 - val_loss: 0.1182 - val_accuracy: 0.8126\n",
      "Epoch 48/100\n",
      "60000/60000 [==============================] - 4s 75us/step - loss: 0.1193 - accuracy: 0.8135 - val_loss: 0.1174 - val_accuracy: 0.8127\n",
      "Epoch 49/100\n",
      "60000/60000 [==============================] - 5s 77us/step - loss: 0.1186 - accuracy: 0.8136 - val_loss: 0.1167 - val_accuracy: 0.8127\n",
      "Epoch 50/100\n",
      "60000/60000 [==============================] - 5s 80us/step - loss: 0.1179 - accuracy: 0.8137 - val_loss: 0.1160 - val_accuracy: 0.8128\n",
      "Epoch 51/100\n",
      "60000/60000 [==============================] - 5s 77us/step - loss: 0.1172 - accuracy: 0.8137 - val_loss: 0.1153 - val_accuracy: 0.8128\n",
      "Epoch 52/100\n",
      "60000/60000 [==============================] - 5s 77us/step - loss: 0.1165 - accuracy: 0.8138 - val_loss: 0.1147 - val_accuracy: 0.8129\n",
      "Epoch 53/100\n",
      "60000/60000 [==============================] - 5s 76us/step - loss: 0.1159 - accuracy: 0.8138 - val_loss: 0.1141 - val_accuracy: 0.8129\n",
      "Epoch 54/100\n",
      "60000/60000 [==============================] - 5s 76us/step - loss: 0.1152 - accuracy: 0.8139 - val_loss: 0.1135 - val_accuracy: 0.8130\n",
      "Epoch 55/100\n",
      "60000/60000 [==============================] - 5s 76us/step - loss: 0.1146 - accuracy: 0.8139 - val_loss: 0.1129 - val_accuracy: 0.8130\n"
     ]
    },
    {
     "name": "stdout",
     "output_type": "stream",
     "text": [
      "Epoch 56/100\n",
      "60000/60000 [==============================] - 5s 76us/step - loss: 0.1140 - accuracy: 0.8139 - val_loss: 0.1123 - val_accuracy: 0.8131\n",
      "Epoch 57/100\n",
      "60000/60000 [==============================] - 5s 75us/step - loss: 0.1135 - accuracy: 0.8140 - val_loss: 0.1118 - val_accuracy: 0.8131\n",
      "Epoch 58/100\n",
      "60000/60000 [==============================] - 4s 75us/step - loss: 0.1129 - accuracy: 0.8140 - val_loss: 0.1112 - val_accuracy: 0.8131\n",
      "Epoch 59/100\n",
      "60000/60000 [==============================] - 4s 73us/step - loss: 0.1124 - accuracy: 0.8141 - val_loss: 0.1107 - val_accuracy: 0.8132\n",
      "Epoch 60/100\n",
      "60000/60000 [==============================] - 4s 73us/step - loss: 0.1119 - accuracy: 0.8141 - val_loss: 0.1102 - val_accuracy: 0.8132\n",
      "Epoch 61/100\n",
      "60000/60000 [==============================] - 4s 72us/step - loss: 0.1114 - accuracy: 0.8141 - val_loss: 0.1097 - val_accuracy: 0.8132\n",
      "Epoch 62/100\n",
      "60000/60000 [==============================] - 5s 75us/step - loss: 0.1109 - accuracy: 0.8142 - val_loss: 0.1093 - val_accuracy: 0.8133\n",
      "Epoch 63/100\n",
      "60000/60000 [==============================] - 5s 75us/step - loss: 0.1105 - accuracy: 0.8142 - val_loss: 0.1088 - val_accuracy: 0.8133\n",
      "Epoch 64/100\n",
      "60000/60000 [==============================] - 5s 86us/step - loss: 0.1100 - accuracy: 0.8142 - val_loss: 0.1084 - val_accuracy: 0.8133\n",
      "Epoch 65/100\n",
      "60000/60000 [==============================] - 5s 78us/step - loss: 0.1096 - accuracy: 0.8142 - val_loss: 0.1080 - val_accuracy: 0.8133\n",
      "Epoch 66/100\n",
      "60000/60000 [==============================] - 4s 73us/step - loss: 0.1091 - accuracy: 0.8143 - val_loss: 0.1076 - val_accuracy: 0.8134\n",
      "Epoch 67/100\n",
      "60000/60000 [==============================] - 4s 74us/step - loss: 0.1087 - accuracy: 0.8143 - val_loss: 0.1072 - val_accuracy: 0.8134\n",
      "Epoch 68/100\n",
      "60000/60000 [==============================] - 5s 75us/step - loss: 0.1083 - accuracy: 0.8143 - val_loss: 0.1068 - val_accuracy: 0.8134\n",
      "Epoch 69/100\n",
      "60000/60000 [==============================] - 4s 75us/step - loss: 0.1079 - accuracy: 0.8143 - val_loss: 0.1064 - val_accuracy: 0.8134\n",
      "Epoch 70/100\n",
      "60000/60000 [==============================] - 5s 77us/step - loss: 0.1076 - accuracy: 0.8144 - val_loss: 0.1060 - val_accuracy: 0.8135\n",
      "Epoch 71/100\n",
      "60000/60000 [==============================] - 5s 76us/step - loss: 0.1072 - accuracy: 0.8144 - val_loss: 0.1057 - val_accuracy: 0.8135\n",
      "Epoch 72/100\n",
      "60000/60000 [==============================] - 5s 79us/step - loss: 0.1069 - accuracy: 0.8144 - val_loss: 0.1053 - val_accuracy: 0.8135\n",
      "Epoch 73/100\n",
      "60000/60000 [==============================] - 5s 83us/step - loss: 0.1065 - accuracy: 0.8144 - val_loss: 0.1050 - val_accuracy: 0.8135\n",
      "Epoch 74/100\n",
      "60000/60000 [==============================] - 5s 80us/step - loss: 0.1062 - accuracy: 0.8144 - val_loss: 0.1047 - val_accuracy: 0.8135\n",
      "Epoch 75/100\n",
      "60000/60000 [==============================] - 5s 90us/step - loss: 0.1058 - accuracy: 0.8145 - val_loss: 0.1044 - val_accuracy: 0.8135\n",
      "Epoch 76/100\n",
      "60000/60000 [==============================] - 4s 72us/step - loss: 0.1055 - accuracy: 0.8145 - val_loss: 0.1041 - val_accuracy: 0.8136\n",
      "Epoch 77/100\n",
      "60000/60000 [==============================] - 5s 84us/step - loss: 0.1052 - accuracy: 0.8145 - val_loss: 0.1038 - val_accuracy: 0.8136\n",
      "Epoch 78/100\n",
      "60000/60000 [==============================] - 5s 80us/step - loss: 0.1049 - accuracy: 0.8145 - val_loss: 0.1035 - val_accuracy: 0.8136\n",
      "Epoch 79/100\n",
      "60000/60000 [==============================] - 5s 82us/step - loss: 0.1046 - accuracy: 0.8145 - val_loss: 0.1032 - val_accuracy: 0.8136\n",
      "Epoch 80/100\n",
      "60000/60000 [==============================] - 5s 82us/step - loss: 0.1043 - accuracy: 0.8145 - val_loss: 0.1029 - val_accuracy: 0.8136\n",
      "Epoch 81/100\n",
      "60000/60000 [==============================] - 5s 88us/step - loss: 0.1041 - accuracy: 0.8145 - val_loss: 0.1026 - val_accuracy: 0.8136\n",
      "Epoch 82/100\n",
      "60000/60000 [==============================] - 5s 89us/step - loss: 0.1038 - accuracy: 0.8146 - val_loss: 0.1024 - val_accuracy: 0.8137\n",
      "Epoch 83/100\n",
      "60000/60000 [==============================] - 4s 71us/step - loss: 0.1035 - accuracy: 0.8146 - val_loss: 0.1021 - val_accuracy: 0.8137\n",
      "Epoch 84/100\n",
      "60000/60000 [==============================] - 4s 72us/step - loss: 0.1033 - accuracy: 0.8146 - val_loss: 0.1019 - val_accuracy: 0.8137\n",
      "Epoch 85/100\n",
      "60000/60000 [==============================] - 4s 74us/step - loss: 0.1030 - accuracy: 0.8146 - val_loss: 0.1016 - val_accuracy: 0.8137\n",
      "Epoch 86/100\n",
      "60000/60000 [==============================] - 4s 72us/step - loss: 0.1028 - accuracy: 0.8146 - val_loss: 0.1014 - val_accuracy: 0.8137\n",
      "Epoch 87/100\n",
      "60000/60000 [==============================] - 4s 71us/step - loss: 0.1025 - accuracy: 0.8146 - val_loss: 0.1011 - val_accuracy: 0.8137\n",
      "Epoch 88/100\n",
      "60000/60000 [==============================] - 4s 73us/step - loss: 0.1023 - accuracy: 0.8146 - val_loss: 0.1009 - val_accuracy: 0.8137\n",
      "Epoch 89/100\n",
      "60000/60000 [==============================] - 4s 72us/step - loss: 0.1020 - accuracy: 0.8146 - val_loss: 0.1007 - val_accuracy: 0.8137\n",
      "Epoch 90/100\n",
      "60000/60000 [==============================] - 4s 72us/step - loss: 0.1018 - accuracy: 0.8147 - val_loss: 0.1005 - val_accuracy: 0.8137\n",
      "Epoch 91/100\n",
      "60000/60000 [==============================] - 4s 72us/step - loss: 0.1016 - accuracy: 0.8147 - val_loss: 0.1002 - val_accuracy: 0.8137\n",
      "Epoch 92/100\n",
      "60000/60000 [==============================] - 4s 72us/step - loss: 0.1014 - accuracy: 0.8147 - val_loss: 0.1000 - val_accuracy: 0.8138\n",
      "Epoch 93/100\n",
      "60000/60000 [==============================] - 4s 72us/step - loss: 0.1012 - accuracy: 0.8147 - val_loss: 0.0998 - val_accuracy: 0.8138\n",
      "Epoch 94/100\n",
      "60000/60000 [==============================] - 4s 71us/step - loss: 0.1009 - accuracy: 0.8147 - val_loss: 0.0996 - val_accuracy: 0.8138\n",
      "Epoch 95/100\n",
      "60000/60000 [==============================] - 4s 75us/step - loss: 0.1007 - accuracy: 0.8147 - val_loss: 0.0994 - val_accuracy: 0.8138\n",
      "Epoch 96/100\n",
      "60000/60000 [==============================] - 4s 73us/step - loss: 0.1005 - accuracy: 0.8147 - val_loss: 0.0992 - val_accuracy: 0.8138\n",
      "Epoch 97/100\n",
      "60000/60000 [==============================] - 4s 71us/step - loss: 0.1003 - accuracy: 0.8147 - val_loss: 0.0990 - val_accuracy: 0.8138\n",
      "Epoch 98/100\n",
      "60000/60000 [==============================] - 4s 71us/step - loss: 0.1002 - accuracy: 0.8147 - val_loss: 0.0989 - val_accuracy: 0.8138\n",
      "Epoch 99/100\n",
      "60000/60000 [==============================] - 4s 72us/step - loss: 0.1000 - accuracy: 0.8147 - val_loss: 0.0987 - val_accuracy: 0.8138\n",
      "Epoch 100/100\n",
      "60000/60000 [==============================] - 4s 71us/step - loss: 0.0998 - accuracy: 0.8148 - val_loss: 0.0985 - val_accuracy: 0.8138\n"
     ]
    }
   ],
   "source": [
    "history = autoencoder.fit(x_train, x_train, epochs=100, batch_size = 512, shuffle = True,\n",
    "              validation_data = (x_test,x_test),callbacks=[stop_here_please])"
   ]
  },
  {
   "cell_type": "code",
   "execution_count": 32,
   "metadata": {},
   "outputs": [
    {
     "name": "stdout",
     "output_type": "stream",
     "text": [
      "dict_keys(['val_loss', 'val_accuracy', 'loss', 'accuracy'])\n"
     ]
    },
    {
     "data": {
      "image/png": "[encoded data removed]",
      "text/plain": [
       "<Figure size 432x288 with 1 Axes>"
      ]
     },
     "metadata": {
      "needs_background": "light"
     },
     "output_type": "display_data"
    },
    {
     "data": {
      "image/png": "[encoded data removed]",
      "text/plain": [
       "<Figure size 432x288 with 1 Axes>"
      ]
     },
     "metadata": {
      "needs_background": "light"
     },
     "output_type": "display_data"
    }
   ],
   "source": [
    "# Plot training loss and validation split loss over the epochs\n",
    "print(history.history.keys())\n",
    "# summarize history for accuracy\n",
    "plt.plot(history.history['accuracy'])\n",
    "plt.plot(history.history['val_accuracy'])\n",
    "plt.title('model accuracy')\n",
    "plt.ylabel('accuracy')\n",
    "plt.xlabel('epoch')\n",
    "plt.legend(['train', 'test'], loc='lower right')\n",
    "plt.savefig('sparseae_model_accuracy.png')\n",
    "plt.show()\n",
    "\n",
    "\n",
    "# summarize history for loss\n",
    "plt.plot(history.history['loss'])\n",
    "plt.plot(history.history['val_loss'])\n",
    "plt.title('model loss')\n",
    "plt.ylabel('loss')\n",
    "plt.xlabel('epoch')\n",
    "plt.legend(['train', 'test'], loc='upper right')\n",
    "plt.savefig('sparseae_model_loss.png')\n",
    "plt.savefig('sparseae_model_loss.png')\n",
    "plt.show()"
   ]
  },
  {
   "cell_type": "code",
   "execution_count": 33,
   "metadata": {},
   "outputs": [],
   "source": [
    "encoded_imgs = autoencoder.predict(x_test)"
   ]
  },
  {
   "cell_type": "code",
   "execution_count": 34,
   "metadata": {},
   "outputs": [
    {
     "data": {
      "text/plain": [
       "0.13303883"
      ]
     },
     "execution_count": 34,
     "metadata": {},
     "output_type": "execute_result"
    }
   ],
   "source": [
    " encoded_imgs.mean()"
   ]
  },
  {
   "cell_type": "code",
   "execution_count": 35,
   "metadata": {},
   "outputs": [
    {
     "data": {
      "image/png": "[encoded data removed]",
      "text/plain": [
       "<Figure size 1440x288 with 20 Axes>"
      ]
     },
     "metadata": {
      "needs_background": "light"
     },
     "output_type": "display_data"
    }
   ],
   "source": [
    "n = 10\n",
    "plt.figure(figsize =(20,4))\n",
    "\n",
    "for i in range(n):\n",
    "    ax = plt.subplot(2, n, i+1)\n",
    "    plt.imshow(x_test[i].reshape(28,28))\n",
    "    plt.gray()\n",
    "    ax.get_xaxis().set_visible(False)\n",
    "    ax.get_yaxis().set_visible(False)\n",
    "    \n",
    "    ax = plt.subplot(2,n, i+1+n)\n",
    "    plt.imshow(encoded_imgs[i].reshape(28,28))\n",
    "    plt.gray()\n",
    "    ax.get_xaxis().set_visible(False)\n",
    "    ax.get_yaxis().set_visible(False)\n",
    "\n",
    "plt.show()"
   ]
  },
  {
   "cell_type": "code",
   "execution_count": null,
   "metadata": {},
   "outputs": [],
   "source": []
  },
  {
   "cell_type": "code",
   "execution_count": null,
   "metadata": {},
   "outputs": [],
   "source": []
  }
 ],
 "metadata": {
  "kernelspec": {
   "display_name": "Python 3",
   "language": "python",
   "name": "python3"
  },
  "language_info": {
   "codemirror_mode": {
    "name": "ipython",
    "version": 3
   },
   "file_extension": ".py",
   "mimetype": "text/x-python",
   "name": "python",
   "nbconvert_exporter": "python",
   "pygments_lexer": "ipython3",
   "version": "3.7.7"
  }
 },
 "nbformat": 4,
 "nbformat_minor": 4
}
