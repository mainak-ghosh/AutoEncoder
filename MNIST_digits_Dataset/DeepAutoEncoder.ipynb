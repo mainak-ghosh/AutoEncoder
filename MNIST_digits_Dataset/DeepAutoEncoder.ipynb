{
 "cells": [
  {
   "cell_type": "code",
   "execution_count": 1,
   "metadata": {},
   "outputs": [
    {
     "name": "stderr",
     "output_type": "stream",
     "text": [
      "Using TensorFlow backend.\n"
     ]
    }
   ],
   "source": [
    "from keras.models import Model\n",
    "from keras.layers import Input, Dense\n",
    "from keras.datasets import mnist\n",
    "from keras.callbacks import History\n",
    "history = History()\n",
    "import numpy as np\n",
    "import matplotlib.pyplot as plt"
   ]
  },
  {
   "cell_type": "markdown",
   "metadata": {},
   "source": [
    "# Model"
   ]
  },
  {
   "cell_type": "code",
   "execution_count": 2,
   "metadata": {},
   "outputs": [],
   "source": [
    "input_img = Input(shape=(784,))\n",
    "\n",
    "\n",
    "encoded = Dense(128, activation='relu')(input_img)\n",
    "encoded = Dense(64, activation='relu')(encoded)\n",
    "\n",
    "encoded = Dense(32, activation='relu')(encoded)\n",
    "\n",
    "decoded = Dense(64, activation='relu')(encoded)\n",
    "decoded = Dense(128, activation='relu')(decoded)\n",
    "\n",
    "\n",
    "decoded = Dense(784, activation='sigmoid')(decoded)\n",
    "\n",
    "autoencoder = Model(input_img, decoded)"
   ]
  },
  {
   "cell_type": "code",
   "execution_count": 3,
   "metadata": {},
   "outputs": [
    {
     "name": "stdout",
     "output_type": "stream",
     "text": [
      "Model: \"model_1\"\n",
      "_________________________________________________________________\n",
      "Layer (type)                 Output Shape              Param #   \n",
      "=================================================================\n",
      "input_1 (InputLayer)         (None, 784)               0         \n",
      "_________________________________________________________________\n",
      "dense_1 (Dense)              (None, 128)               100480    \n",
      "_________________________________________________________________\n",
      "dense_2 (Dense)              (None, 64)                8256      \n",
      "_________________________________________________________________\n",
      "dense_3 (Dense)              (None, 32)                2080      \n",
      "_________________________________________________________________\n",
      "dense_4 (Dense)              (None, 64)                2112      \n",
      "_________________________________________________________________\n",
      "dense_5 (Dense)              (None, 128)               8320      \n",
      "_________________________________________________________________\n",
      "dense_6 (Dense)              (None, 784)               101136    \n",
      "=================================================================\n",
      "Total params: 222,384\n",
      "Trainable params: 222,384\n",
      "Non-trainable params: 0\n",
      "_________________________________________________________________\n"
     ]
    }
   ],
   "source": [
    "autoencoder.compile(optimizer='adadelta', loss = 'binary_crossentropy', metrics = ['accuracy'])\n",
    "autoencoder.summary()"
   ]
  },
  {
   "cell_type": "code",
   "execution_count": null,
   "metadata": {},
   "outputs": [],
   "source": []
  },
  {
   "cell_type": "markdown",
   "metadata": {},
   "source": [
    "# Load mnist Dataset"
   ]
  },
  {
   "cell_type": "code",
   "execution_count": 4,
   "metadata": {},
   "outputs": [],
   "source": [
    "(x_train, _),(x_test,_) = mnist.load_data()"
   ]
  },
  {
   "cell_type": "code",
   "execution_count": 5,
   "metadata": {},
   "outputs": [
    {
     "data": {
      "text/plain": [
       "array([[[0, 0, 0, ..., 0, 0, 0],\n",
       "        [0, 0, 0, ..., 0, 0, 0],\n",
       "        [0, 0, 0, ..., 0, 0, 0],\n",
       "        ...,\n",
       "        [0, 0, 0, ..., 0, 0, 0],\n",
       "        [0, 0, 0, ..., 0, 0, 0],\n",
       "        [0, 0, 0, ..., 0, 0, 0]],\n",
       "\n",
       "       [[0, 0, 0, ..., 0, 0, 0],\n",
       "        [0, 0, 0, ..., 0, 0, 0],\n",
       "        [0, 0, 0, ..., 0, 0, 0],\n",
       "        ...,\n",
       "        [0, 0, 0, ..., 0, 0, 0],\n",
       "        [0, 0, 0, ..., 0, 0, 0],\n",
       "        [0, 0, 0, ..., 0, 0, 0]],\n",
       "\n",
       "       [[0, 0, 0, ..., 0, 0, 0],\n",
       "        [0, 0, 0, ..., 0, 0, 0],\n",
       "        [0, 0, 0, ..., 0, 0, 0],\n",
       "        ...,\n",
       "        [0, 0, 0, ..., 0, 0, 0],\n",
       "        [0, 0, 0, ..., 0, 0, 0],\n",
       "        [0, 0, 0, ..., 0, 0, 0]],\n",
       "\n",
       "       ...,\n",
       "\n",
       "       [[0, 0, 0, ..., 0, 0, 0],\n",
       "        [0, 0, 0, ..., 0, 0, 0],\n",
       "        [0, 0, 0, ..., 0, 0, 0],\n",
       "        ...,\n",
       "        [0, 0, 0, ..., 0, 0, 0],\n",
       "        [0, 0, 0, ..., 0, 0, 0],\n",
       "        [0, 0, 0, ..., 0, 0, 0]],\n",
       "\n",
       "       [[0, 0, 0, ..., 0, 0, 0],\n",
       "        [0, 0, 0, ..., 0, 0, 0],\n",
       "        [0, 0, 0, ..., 0, 0, 0],\n",
       "        ...,\n",
       "        [0, 0, 0, ..., 0, 0, 0],\n",
       "        [0, 0, 0, ..., 0, 0, 0],\n",
       "        [0, 0, 0, ..., 0, 0, 0]],\n",
       "\n",
       "       [[0, 0, 0, ..., 0, 0, 0],\n",
       "        [0, 0, 0, ..., 0, 0, 0],\n",
       "        [0, 0, 0, ..., 0, 0, 0],\n",
       "        ...,\n",
       "        [0, 0, 0, ..., 0, 0, 0],\n",
       "        [0, 0, 0, ..., 0, 0, 0],\n",
       "        [0, 0, 0, ..., 0, 0, 0]]], dtype=uint8)"
      ]
     },
     "execution_count": 5,
     "metadata": {},
     "output_type": "execute_result"
    }
   ],
   "source": [
    "x_train"
   ]
  },
  {
   "cell_type": "code",
   "execution_count": 6,
   "metadata": {},
   "outputs": [
    {
     "data": {
      "text/plain": [
       "(60000, 28, 28)"
      ]
     },
     "execution_count": 6,
     "metadata": {},
     "output_type": "execute_result"
    }
   ],
   "source": [
    "x_train.shape"
   ]
  },
  {
   "cell_type": "code",
   "execution_count": 7,
   "metadata": {},
   "outputs": [
    {
     "data": {
      "text/plain": [
       "784"
      ]
     },
     "execution_count": 7,
     "metadata": {},
     "output_type": "execute_result"
    }
   ],
   "source": [
    "np.prod(x_train.shape[1:])"
   ]
  },
  {
   "cell_type": "code",
   "execution_count": 8,
   "metadata": {},
   "outputs": [
    {
     "name": "stdout",
     "output_type": "stream",
     "text": [
      "x_train shape = (60000, 784)\n",
      "x_test shape = (10000, 784)\n"
     ]
    }
   ],
   "source": [
    "x_train = x_train.astype('float32')/255\n",
    "x_test = x_test.astype('float32')/255\n",
    "x_train = x_train.reshape((len(x_train), (np.prod(x_train.shape[1:]))))\n",
    "x_test = x_test.reshape((len(x_test), (np.prod(x_test.shape[1:]))))\n",
    "print(f'x_train shape = {x_train.shape}')\n",
    "print(f'x_test shape = {x_test.shape}')\n"
   ]
  },
  {
   "cell_type": "markdown",
   "metadata": {},
   "source": [
    "# Fit Data"
   ]
  },
  {
   "cell_type": "code",
   "execution_count": 9,
   "metadata": {},
   "outputs": [
    {
     "name": "stdout",
     "output_type": "stream",
     "text": [
      "Train on 60000 samples, validate on 10000 samples\n",
      "Epoch 1/100\n",
      "60000/60000 [==============================] - 4s 66us/step - loss: 0.3386 - accuracy: 0.7500 - val_loss: 0.2648 - val_accuracy: 0.7917\n",
      "Epoch 2/100\n",
      "60000/60000 [==============================] - 4s 61us/step - loss: 0.2592 - accuracy: 0.7949 - val_loss: 0.2547 - val_accuracy: 0.7891\n",
      "Epoch 3/100\n",
      "60000/60000 [==============================] - 4s 61us/step - loss: 0.2472 - accuracy: 0.7975 - val_loss: 0.2364 - val_accuracy: 0.7929\n",
      "Epoch 4/100\n",
      "60000/60000 [==============================] - 4s 65us/step - loss: 0.2293 - accuracy: 0.7941 - val_loss: 0.2233 - val_accuracy: 0.7939\n",
      "Epoch 5/100\n",
      "60000/60000 [==============================] - 4s 65us/step - loss: 0.2173 - accuracy: 0.7948 - val_loss: 0.2061 - val_accuracy: 0.7965\n",
      "Epoch 6/100\n",
      "60000/60000 [==============================] - 4s 62us/step - loss: 0.1997 - accuracy: 0.7969 - val_loss: 0.1912 - val_accuracy: 0.7989\n",
      "Epoch 7/100\n",
      "60000/60000 [==============================] - 4s 62us/step - loss: 0.1885 - accuracy: 0.7980 - val_loss: 0.1845 - val_accuracy: 0.8008\n",
      "Epoch 8/100\n",
      "60000/60000 [==============================] - 4s 65us/step - loss: 0.1819 - accuracy: 0.7985 - val_loss: 0.1766 - val_accuracy: 0.7975\n",
      "Epoch 9/100\n",
      "60000/60000 [==============================] - 4s 64us/step - loss: 0.1760 - accuracy: 0.7995 - val_loss: 0.1717 - val_accuracy: 0.8030\n",
      "Epoch 10/100\n",
      "60000/60000 [==============================] - 4s 60us/step - loss: 0.1707 - accuracy: 0.8007 - val_loss: 0.1669 - val_accuracy: 0.7971\n",
      "Epoch 11/100\n",
      "60000/60000 [==============================] - 4s 59us/step - loss: 0.1656 - accuracy: 0.8019 - val_loss: 0.1623 - val_accuracy: 0.8058\n",
      "Epoch 12/100\n",
      "60000/60000 [==============================] - 3s 57us/step - loss: 0.1609 - accuracy: 0.8030 - val_loss: 0.1586 - val_accuracy: 0.7994\n",
      "Epoch 13/100\n",
      "60000/60000 [==============================] - 3s 55us/step - loss: 0.1575 - accuracy: 0.8036 - val_loss: 0.1584 - val_accuracy: 0.7977\n",
      "Epoch 14/100\n",
      "60000/60000 [==============================] - 4s 60us/step - loss: 0.1549 - accuracy: 0.8041 - val_loss: 0.1516 - val_accuracy: 0.8023\n",
      "Epoch 15/100\n",
      "60000/60000 [==============================] - 4s 59us/step - loss: 0.1522 - accuracy: 0.8047 - val_loss: 0.1507 - val_accuracy: 0.8068\n",
      "Epoch 16/100\n",
      "60000/60000 [==============================] - 4s 59us/step - loss: 0.1502 - accuracy: 0.8050 - val_loss: 0.1484 - val_accuracy: 0.8026\n",
      "Epoch 17/100\n",
      "60000/60000 [==============================] - 4s 58us/step - loss: 0.1482 - accuracy: 0.8054 - val_loss: 0.1461 - val_accuracy: 0.8061\n",
      "Epoch 18/100\n",
      "60000/60000 [==============================] - 4s 60us/step - loss: 0.1461 - accuracy: 0.8058 - val_loss: 0.1428 - val_accuracy: 0.8072\n",
      "Epoch 19/100\n",
      "60000/60000 [==============================] - 3s 56us/step - loss: 0.1439 - accuracy: 0.8063 - val_loss: 0.1419 - val_accuracy: 0.8035\n",
      "Epoch 20/100\n",
      "60000/60000 [==============================] - 4s 71us/step - loss: 0.1417 - accuracy: 0.8067 - val_loss: 0.1394 - val_accuracy: 0.8048\n",
      "Epoch 21/100\n",
      "60000/60000 [==============================] - 4s 60us/step - loss: 0.1399 - accuracy: 0.8071 - val_loss: 0.1371 - val_accuracy: 0.8061\n",
      "Epoch 22/100\n",
      "60000/60000 [==============================] - 4s 62us/step - loss: 0.1380 - accuracy: 0.8075 - val_loss: 0.1354 - val_accuracy: 0.8087\n",
      "Epoch 23/100\n",
      "60000/60000 [==============================] - 4s 61us/step - loss: 0.1365 - accuracy: 0.8077 - val_loss: 0.1338 - val_accuracy: 0.8082\n",
      "Epoch 24/100\n",
      "60000/60000 [==============================] - 4s 66us/step - loss: 0.1351 - accuracy: 0.8080 - val_loss: 0.1322 - val_accuracy: 0.8068\n",
      "Epoch 25/100\n",
      "60000/60000 [==============================] - 4s 72us/step - loss: 0.1336 - accuracy: 0.8082 - val_loss: 0.1316 - val_accuracy: 0.8084\n",
      "Epoch 26/100\n",
      "60000/60000 [==============================] - 4s 67us/step - loss: 0.1324 - accuracy: 0.8084 - val_loss: 0.1305 - val_accuracy: 0.8079\n",
      "Epoch 27/100\n",
      "60000/60000 [==============================] - 4s 67us/step - loss: 0.1312 - accuracy: 0.8087 - val_loss: 0.1290 - val_accuracy: 0.8092\n",
      "Epoch 28/100\n",
      "60000/60000 [==============================] - 4s 75us/step - loss: 0.1298 - accuracy: 0.8089 - val_loss: 0.1277 - val_accuracy: 0.8093\n",
      "Epoch 29/100\n",
      "60000/60000 [==============================] - 4s 73us/step - loss: 0.1286 - accuracy: 0.8091 - val_loss: 0.1281 - val_accuracy: 0.8080\n",
      "Epoch 30/100\n",
      "60000/60000 [==============================] - 5s 76us/step - loss: 0.1278 - accuracy: 0.8092 - val_loss: 0.1275 - val_accuracy: 0.8104\n",
      "Epoch 31/100\n",
      "60000/60000 [==============================] - 5s 83us/step - loss: 0.1266 - accuracy: 0.8094 - val_loss: 0.1255 - val_accuracy: 0.8082\n",
      "Epoch 32/100\n",
      "60000/60000 [==============================] - 6s 94us/step - loss: 0.1257 - accuracy: 0.8095 - val_loss: 0.1260 - val_accuracy: 0.8073\n",
      "Epoch 33/100\n",
      "60000/60000 [==============================] - 8s 129us/step - loss: 0.1248 - accuracy: 0.8097 - val_loss: 0.1243 - val_accuracy: 0.8100\n",
      "Epoch 34/100\n",
      "60000/60000 [==============================] - 8s 127us/step - loss: 0.1239 - accuracy: 0.8099 - val_loss: 0.1214 - val_accuracy: 0.8079\n",
      "Epoch 35/100\n",
      "60000/60000 [==============================] - 7s 115us/step - loss: 0.1231 - accuracy: 0.8100 - val_loss: 0.1214 - val_accuracy: 0.8089\n",
      "Epoch 36/100\n",
      "60000/60000 [==============================] - 7s 109us/step - loss: 0.1224 - accuracy: 0.8101 - val_loss: 0.1199 - val_accuracy: 0.8096\n",
      "Epoch 37/100\n",
      "60000/60000 [==============================] - 7s 109us/step - loss: 0.1215 - accuracy: 0.8102 - val_loss: 0.1199 - val_accuracy: 0.8091\n",
      "Epoch 38/100\n",
      "60000/60000 [==============================] - 6s 107us/step - loss: 0.1210 - accuracy: 0.8103 - val_loss: 0.1198 - val_accuracy: 0.8103\n",
      "Epoch 39/100\n",
      "60000/60000 [==============================] - 6s 103us/step - loss: 0.1204 - accuracy: 0.8103 - val_loss: 0.1186 - val_accuracy: 0.8094\n",
      "Epoch 40/100\n",
      "60000/60000 [==============================] - 6s 105us/step - loss: 0.1197 - accuracy: 0.8105 - val_loss: 0.1207 - val_accuracy: 0.8105oss: 0.1197 - accu - E\n",
      "Epoch 41/100\n",
      "60000/60000 [==============================] - 6s 104us/step - loss: 0.1190 - accuracy: 0.8106 - val_loss: 0.1187 - val_accuracy: 0.8093\n",
      "Epoch 42/100\n",
      "60000/60000 [==============================] - 6s 104us/step - loss: 0.1185 - accuracy: 0.8106 - val_loss: 0.1171 - val_accuracy: 0.8111\n",
      "Epoch 43/100\n",
      "60000/60000 [==============================] - 6s 103us/step - loss: 0.1178 - accuracy: 0.8108 - val_loss: 0.1161 - val_accuracy: 0.8106\n",
      "Epoch 44/100\n",
      "60000/60000 [==============================] - 6s 105us/step - loss: 0.1172 - accuracy: 0.8108 - val_loss: 0.1146 - val_accuracy: 0.8111\n",
      "Epoch 45/100\n",
      "60000/60000 [==============================] - 6s 108us/step - loss: 0.1165 - accuracy: 0.8110 - val_loss: 0.1149 - val_accuracy: 0.8094\n",
      "Epoch 46/100\n",
      "60000/60000 [==============================] - 6s 106us/step - loss: 0.1160 - accuracy: 0.8110 - val_loss: 0.1167 - val_accuracy: 0.8097\n",
      "Epoch 47/100\n",
      "60000/60000 [==============================] - 8s 131us/step - loss: 0.1155 - accuracy: 0.8111 - val_loss: 0.1136 - val_accuracy: 0.8094\n",
      "Epoch 48/100\n",
      "60000/60000 [==============================] - 8s 127us/step - loss: 0.1148 - accuracy: 0.8112 - val_loss: 0.1141 - val_accuracy: 0.8112\n",
      "Epoch 49/100\n",
      "60000/60000 [==============================] - 8s 130us/step - loss: 0.1144 - accuracy: 0.8113 - val_loss: 0.1120 - val_accuracy: 0.8114\n",
      "Epoch 50/100\n",
      "60000/60000 [==============================] - 7s 110us/step - loss: 0.1140 - accuracy: 0.8113 - val_loss: 0.1115 - val_accuracy: 0.8109\n",
      "Epoch 51/100\n",
      "60000/60000 [==============================] - 7s 117us/step - loss: 0.1136 - accuracy: 0.8114 - val_loss: 0.1125 - val_accuracy: 0.8107\n",
      "Epoch 52/100\n",
      "60000/60000 [==============================] - 7s 112us/step - loss: 0.1131 - accuracy: 0.8115 - val_loss: 0.1111 - val_accuracy: 0.8106\n",
      "Epoch 53/100\n",
      "60000/60000 [==============================] - 6s 106us/step - loss: 0.1127 - accuracy: 0.8115 - val_loss: 0.1102 - val_accuracy: 0.8104\n",
      "Epoch 54/100\n",
      "60000/60000 [==============================] - 6s 101us/step - loss: 0.1124 - accuracy: 0.8115 - val_loss: 0.1121 - val_accuracy: 0.8112\n",
      "Epoch 55/100\n"
     ]
    },
    {
     "name": "stdout",
     "output_type": "stream",
     "text": [
      "60000/60000 [==============================] - 7s 122us/step - loss: 0.1119 - accuracy: 0.8116 - val_loss: 0.1108 - val_accuracy: 0.8102\n",
      "Epoch 56/100\n",
      "60000/60000 [==============================] - 6s 105us/step - loss: 0.1117 - accuracy: 0.8116 - val_loss: 0.1105 - val_accuracy: 0.8101\n",
      "Epoch 57/100\n",
      "60000/60000 [==============================] - 7s 110us/step - loss: 0.1113 - accuracy: 0.8117 - val_loss: 0.1124 - val_accuracy: 0.8096\n",
      "Epoch 58/100\n",
      "60000/60000 [==============================] - 7s 111us/step - loss: 0.1109 - accuracy: 0.8117 - val_loss: 0.1086 - val_accuracy: 0.8115\n",
      "Epoch 59/100\n",
      "60000/60000 [==============================] - 7s 113us/step - loss: 0.1106 - accuracy: 0.8118 - val_loss: 0.1097 - val_accuracy: 0.8106\n",
      "Epoch 60/100\n",
      "60000/60000 [==============================] - 7s 114us/step - loss: 0.1103 - accuracy: 0.8118 - val_loss: 0.1098 - val_accuracy: 0.8112\n",
      "Epoch 61/100\n",
      "60000/60000 [==============================] - 7s 114us/step - loss: 0.1100 - accuracy: 0.8118 - val_loss: 0.1090 - val_accuracy: 0.8104\n",
      "Epoch 62/100\n",
      "60000/60000 [==============================] - 7s 124us/step - loss: 0.1096 - accuracy: 0.8119 - val_loss: 0.1093 - val_accuracy: 0.8115\n",
      "Epoch 63/100\n",
      "60000/60000 [==============================] - 7s 122us/step - loss: 0.1094 - accuracy: 0.8119 - val_loss: 0.1076 - val_accuracy: 0.8111\n",
      "Epoch 64/100\n",
      "60000/60000 [==============================] - 5s 76us/step - loss: 0.1091 - accuracy: 0.8120 - val_loss: 0.1077 - val_accuracy: 0.8107\n",
      "Epoch 65/100\n",
      "60000/60000 [==============================] - 4s 71us/step - loss: 0.1088 - accuracy: 0.8120 - val_loss: 0.1064 - val_accuracy: 0.8114\n",
      "Epoch 66/100\n",
      "60000/60000 [==============================] - 5s 75us/step - loss: 0.1085 - accuracy: 0.8120 - val_loss: 0.1080 - val_accuracy: 0.8109\n",
      "Epoch 67/100\n",
      "60000/60000 [==============================] - 3s 57us/step - loss: 0.1081 - accuracy: 0.8121 - val_loss: 0.1065 - val_accuracy: 0.8115\n",
      "Epoch 68/100\n",
      "60000/60000 [==============================] - 3s 56us/step - loss: 0.1079 - accuracy: 0.8121 - val_loss: 0.1075 - val_accuracy: 0.8113\n",
      "Epoch 69/100\n",
      "60000/60000 [==============================] - 4s 59us/step - loss: 0.1076 - accuracy: 0.8121 - val_loss: 0.1065 - val_accuracy: 0.8116\n",
      "Epoch 70/100\n",
      "60000/60000 [==============================] - 3s 54us/step - loss: 0.1073 - accuracy: 0.8122 - val_loss: 0.1067 - val_accuracy: 0.8122\n",
      "Epoch 71/100\n",
      "60000/60000 [==============================] - 3s 53us/step - loss: 0.1071 - accuracy: 0.8122 - val_loss: 0.1061 - val_accuracy: 0.8123\n",
      "Epoch 72/100\n",
      "60000/60000 [==============================] - 3s 52us/step - loss: 0.1068 - accuracy: 0.8123 - val_loss: 0.1078 - val_accuracy: 0.8111\n",
      "Epoch 73/100\n",
      "60000/60000 [==============================] - 3s 54us/step - loss: 0.1065 - accuracy: 0.8123 - val_loss: 0.1082 - val_accuracy: 0.8100\n",
      "Epoch 74/100\n",
      "60000/60000 [==============================] - 3s 56us/step - loss: 0.1063 - accuracy: 0.8123 - val_loss: 0.1065 - val_accuracy: 0.8121\n",
      "Epoch 75/100\n",
      "60000/60000 [==============================] - 3s 53us/step - loss: 0.1061 - accuracy: 0.8123 - val_loss: 0.1048 - val_accuracy: 0.8118\n",
      "Epoch 76/100\n",
      "60000/60000 [==============================] - 3s 58us/step - loss: 0.1059 - accuracy: 0.8124 - val_loss: 0.1044 - val_accuracy: 0.8114\n",
      "Epoch 77/100\n",
      "60000/60000 [==============================] - 3s 53us/step - loss: 0.1055 - accuracy: 0.8124 - val_loss: 0.1036 - val_accuracy: 0.8123\n",
      "Epoch 78/100\n",
      "60000/60000 [==============================] - 3s 51us/step - loss: 0.1054 - accuracy: 0.8125 - val_loss: 0.1048 - val_accuracy: 0.8123\n",
      "Epoch 79/100\n",
      "60000/60000 [==============================] - 3s 49us/step - loss: 0.1051 - accuracy: 0.8125 - val_loss: 0.1059 - val_accuracy: 0.8103\n",
      "Epoch 80/100\n",
      "60000/60000 [==============================] - 3s 50us/step - loss: 0.1049 - accuracy: 0.8125 - val_loss: 0.1042 - val_accuracy: 0.8113\n",
      "Epoch 81/100\n",
      "60000/60000 [==============================] - 3s 50us/step - loss: 0.1047 - accuracy: 0.8125 - val_loss: 0.1045 - val_accuracy: 0.8121\n",
      "Epoch 82/100\n",
      "60000/60000 [==============================] - 3s 48us/step - loss: 0.1045 - accuracy: 0.8126 - val_loss: 0.1031 - val_accuracy: 0.8114\n",
      "Epoch 83/100\n",
      "60000/60000 [==============================] - 3s 47us/step - loss: 0.1041 - accuracy: 0.8126 - val_loss: 0.1025 - val_accuracy: 0.8121\n",
      "Epoch 84/100\n",
      "60000/60000 [==============================] - 3s 50us/step - loss: 0.1041 - accuracy: 0.8126 - val_loss: 0.1032 - val_accuracy: 0.8121\n",
      "Epoch 85/100\n",
      "60000/60000 [==============================] - 3s 51us/step - loss: 0.1038 - accuracy: 0.8127 - val_loss: 0.1044 - val_accuracy: 0.8121\n",
      "Epoch 86/100\n",
      "60000/60000 [==============================] - 3s 49us/step - loss: 0.1036 - accuracy: 0.8127 - val_loss: 0.1033 - val_accuracy: 0.8125\n",
      "Epoch 87/100\n",
      "60000/60000 [==============================] - 3s 47us/step - loss: 0.1035 - accuracy: 0.8127 - val_loss: 0.1014 - val_accuracy: 0.8114\n",
      "Epoch 88/100\n",
      "60000/60000 [==============================] - 3s 46us/step - loss: 0.1032 - accuracy: 0.8127 - val_loss: 0.1037 - val_accuracy: 0.8126\n",
      "Epoch 89/100\n",
      "60000/60000 [==============================] - 3s 47us/step - loss: 0.1030 - accuracy: 0.8127 - val_loss: 0.1029 - val_accuracy: 0.8114\n",
      "Epoch 90/100\n",
      "60000/60000 [==============================] - 3s 47us/step - loss: 0.1029 - accuracy: 0.8128 - val_loss: 0.1016 - val_accuracy: 0.8116\n",
      "Epoch 91/100\n",
      "60000/60000 [==============================] - 3s 46us/step - loss: 0.1027 - accuracy: 0.8128 - val_loss: 0.1017 - val_accuracy: 0.8118\n",
      "Epoch 92/100\n",
      "60000/60000 [==============================] - 3s 52us/step - loss: 0.1025 - accuracy: 0.8128 - val_loss: 0.1011 - val_accuracy: 0.8116\n",
      "Epoch 93/100\n",
      "60000/60000 [==============================] - 4s 65us/step - loss: 0.1023 - accuracy: 0.8128 - val_loss: 0.1023 - val_accuracy: 0.8126\n",
      "Epoch 94/100\n",
      "60000/60000 [==============================] - 3s 48us/step - loss: 0.1020 - accuracy: 0.8129 - val_loss: 0.1024 - val_accuracy: 0.8125\n",
      "Epoch 95/100\n",
      "60000/60000 [==============================] - 3s 47us/step - loss: 0.1020 - accuracy: 0.8129 - val_loss: 0.1022 - val_accuracy: 0.8119\n",
      "Epoch 96/100\n",
      "60000/60000 [==============================] - 4s 60us/step - loss: 0.1018 - accuracy: 0.8129 - val_loss: 0.1023 - val_accuracy: 0.8111\n",
      "Epoch 97/100\n",
      "60000/60000 [==============================] - 3s 50us/step - loss: 0.1018 - accuracy: 0.8129 - val_loss: 0.1003 - val_accuracy: 0.8125\n",
      "Epoch 98/100\n",
      "60000/60000 [==============================] - 4s 61us/step - loss: 0.1015 - accuracy: 0.8129 - val_loss: 0.1014 - val_accuracy: 0.8121\n",
      "Epoch 99/100\n",
      "60000/60000 [==============================] - 3s 49us/step - loss: 0.1014 - accuracy: 0.8129 - val_loss: 0.0995 - val_accuracy: 0.8126\n",
      "Epoch 100/100\n",
      "60000/60000 [==============================] - 3s 47us/step - loss: 0.1012 - accuracy: 0.8130 - val_loss: 0.1002 - val_accuracy: 0.8122\n"
     ]
    }
   ],
   "source": [
    "history = autoencoder.fit(x_train, x_train, epochs=100, batch_size = 256, shuffle = True,\n",
    "              validation_data = (x_test,x_test))"
   ]
  },
  {
   "cell_type": "code",
   "execution_count": 13,
   "metadata": {},
   "outputs": [
    {
     "name": "stdout",
     "output_type": "stream",
     "text": [
      "dict_keys(['val_loss', 'val_accuracy', 'loss', 'accuracy'])\n"
     ]
    },
    {
     "data": {
      "image/png": "[encoded data removed]",
      "text/plain": [
       "<Figure size 432x288 with 1 Axes>"
      ]
     },
     "metadata": {
      "needs_background": "light"
     },
     "output_type": "display_data"
    },
    {
     "data": {
      "image/png": "[encoded data removed]",
      "text/plain": [
       "<Figure size 432x288 with 1 Axes>"
      ]
     },
     "metadata": {
      "needs_background": "light"
     },
     "output_type": "display_data"
    }
   ],
   "source": [
    "# Plot training loss and validation split loss over the epochs\n",
    "print(history.history.keys())\n",
    "# summarize history for accuracy\n",
    "plt.plot(history.history['accuracy'])\n",
    "plt.plot(history.history['val_accuracy'])\n",
    "plt.title('model accuracy')\n",
    "plt.ylabel('accuracy')\n",
    "plt.xlabel('epoch')\n",
    "plt.legend(['train', 'test'], loc='upper left')\n",
    "plt.savefig('deepAE_model_accuracy.png')\n",
    "plt.show()\n",
    "\n",
    "\n",
    "# summarize history for loss\n",
    "plt.plot(history.history['loss'])\n",
    "plt.plot(history.history['val_loss'])\n",
    "plt.title('model loss')\n",
    "plt.ylabel('loss')\n",
    "plt.xlabel('epoch')\n",
    "plt.legend(['train', 'test'], loc='upper left')\n",
    "plt.savefig('deepAE_model_loss.png')\n",
    "plt.show()"
   ]
  },
  {
   "cell_type": "code",
   "execution_count": 11,
   "metadata": {},
   "outputs": [],
   "source": [
    "recons_imgs = autoencoder.predict(x_test)"
   ]
  },
  {
   "cell_type": "code",
   "execution_count": 12,
   "metadata": {},
   "outputs": [
    {
     "data": {
      "image/png": "[encoded data removed]",
      "text/plain": [
       "<Figure size 1440x288 with 20 Axes>"
      ]
     },
     "metadata": {
      "needs_background": "light"
     },
     "output_type": "display_data"
    }
   ],
   "source": [
    "n = 10\n",
    "plt.figure(figsize =(20,4))\n",
    "\n",
    "for i in range(n):\n",
    "    ax = plt.subplot(2, n, i+1)\n",
    "    plt.imshow(x_test[i].reshape(28,28))\n",
    "    plt.gray()\n",
    "    ax.get_xaxis().set_visible(False)\n",
    "    ax.get_yaxis().set_visible(False)\n",
    "    \n",
    "    ax = plt.subplot(2,n, i+1+n)\n",
    "    plt.imshow(recons_imgs[i].reshape(28,28))\n",
    "    plt.gray()\n",
    "    ax.get_xaxis().set_visible(False)\n",
    "    ax.get_yaxis().set_visible(False)\n",
    "\n",
    "plt.show()"
   ]
  },
  {
   "cell_type": "code",
   "execution_count": null,
   "metadata": {},
   "outputs": [],
   "source": []
  }
 ],
 "metadata": {
  "kernelspec": {
   "display_name": "Python 3",
   "language": "python",
   "name": "python3"
  },
  "language_info": {
   "codemirror_mode": {
    "name": "ipython",
    "version": 3
   },
   "file_extension": ".py",
   "mimetype": "text/x-python",
   "name": "python",
   "nbconvert_exporter": "python",
   "pygments_lexer": "ipython3",
   "version": "3.7.7"
  }
 },
 "nbformat": 4,
 "nbformat_minor": 4
}
