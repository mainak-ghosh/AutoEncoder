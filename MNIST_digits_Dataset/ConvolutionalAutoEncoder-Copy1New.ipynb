{
 "cells": [
  {
   "cell_type": "code",
   "execution_count": 1,
   "metadata": {},
   "outputs": [
    {
     "name": "stderr",
     "output_type": "stream",
     "text": [
      "Using TensorFlow backend.\n"
     ]
    }
   ],
   "source": [
    "from keras.models import Model\n",
    "from keras.layers import Input\n",
    "from tensorflow.keras.layers import Conv2D, MaxPooling2D, UpSampling2D\n",
    "from tensorflow.keras.models import Sequential\n",
    "from keras.callbacks import History\n",
    "history = History()\n",
    "import numpy as np\n",
    "import pandas as pd\n",
    "import matplotlib.pyplot as plt\n",
    "from sklearn.model_selection import train_test_split"
   ]
  },
  {
   "cell_type": "markdown",
   "metadata": {},
   "source": [
    "# Data Acquisition"
   ]
  },
  {
   "cell_type": "code",
   "execution_count": 2,
   "metadata": {},
   "outputs": [],
   "source": [
    "# Data Acuisition\n",
    "x_train=pd.read_csv(\"mnist_train.csv\")\n",
    "x_test=pd.read_csv(\"mnist_test.csv\")"
   ]
  },
  {
   "cell_type": "code",
   "execution_count": 3,
   "metadata": {},
   "outputs": [
    {
     "data": {
      "text/html": [
       "<div>\n",
       "<style scoped>\n",
       "    .dataframe tbody tr th:only-of-type {\n",
       "        vertical-align: middle;\n",
       "    }\n",
       "\n",
       "    .dataframe tbody tr th {\n",
       "        vertical-align: top;\n",
       "    }\n",
       "\n",
       "    .dataframe thead th {\n",
       "        text-align: right;\n",
       "    }\n",
       "</style>\n",
       "<table border=\"1\" class=\"dataframe\">\n",
       "  <thead>\n",
       "    <tr style=\"text-align: right;\">\n",
       "      <th></th>\n",
       "      <th>label</th>\n",
       "      <th>1x1</th>\n",
       "      <th>1x2</th>\n",
       "      <th>1x3</th>\n",
       "      <th>1x4</th>\n",
       "      <th>1x5</th>\n",
       "      <th>1x6</th>\n",
       "      <th>1x7</th>\n",
       "      <th>1x8</th>\n",
       "      <th>1x9</th>\n",
       "      <th>...</th>\n",
       "      <th>28x19</th>\n",
       "      <th>28x20</th>\n",
       "      <th>28x21</th>\n",
       "      <th>28x22</th>\n",
       "      <th>28x23</th>\n",
       "      <th>28x24</th>\n",
       "      <th>28x25</th>\n",
       "      <th>28x26</th>\n",
       "      <th>28x27</th>\n",
       "      <th>28x28</th>\n",
       "    </tr>\n",
       "  </thead>\n",
       "  <tbody>\n",
       "    <tr>\n",
       "      <th>0</th>\n",
       "      <td>5</td>\n",
       "      <td>0</td>\n",
       "      <td>0</td>\n",
       "      <td>0</td>\n",
       "      <td>0</td>\n",
       "      <td>0</td>\n",
       "      <td>0</td>\n",
       "      <td>0</td>\n",
       "      <td>0</td>\n",
       "      <td>0</td>\n",
       "      <td>...</td>\n",
       "      <td>0</td>\n",
       "      <td>0</td>\n",
       "      <td>0</td>\n",
       "      <td>0</td>\n",
       "      <td>0</td>\n",
       "      <td>0</td>\n",
       "      <td>0</td>\n",
       "      <td>0</td>\n",
       "      <td>0</td>\n",
       "      <td>0</td>\n",
       "    </tr>\n",
       "    <tr>\n",
       "      <th>1</th>\n",
       "      <td>0</td>\n",
       "      <td>0</td>\n",
       "      <td>0</td>\n",
       "      <td>0</td>\n",
       "      <td>0</td>\n",
       "      <td>0</td>\n",
       "      <td>0</td>\n",
       "      <td>0</td>\n",
       "      <td>0</td>\n",
       "      <td>0</td>\n",
       "      <td>...</td>\n",
       "      <td>0</td>\n",
       "      <td>0</td>\n",
       "      <td>0</td>\n",
       "      <td>0</td>\n",
       "      <td>0</td>\n",
       "      <td>0</td>\n",
       "      <td>0</td>\n",
       "      <td>0</td>\n",
       "      <td>0</td>\n",
       "      <td>0</td>\n",
       "    </tr>\n",
       "    <tr>\n",
       "      <th>2</th>\n",
       "      <td>4</td>\n",
       "      <td>0</td>\n",
       "      <td>0</td>\n",
       "      <td>0</td>\n",
       "      <td>0</td>\n",
       "      <td>0</td>\n",
       "      <td>0</td>\n",
       "      <td>0</td>\n",
       "      <td>0</td>\n",
       "      <td>0</td>\n",
       "      <td>...</td>\n",
       "      <td>0</td>\n",
       "      <td>0</td>\n",
       "      <td>0</td>\n",
       "      <td>0</td>\n",
       "      <td>0</td>\n",
       "      <td>0</td>\n",
       "      <td>0</td>\n",
       "      <td>0</td>\n",
       "      <td>0</td>\n",
       "      <td>0</td>\n",
       "    </tr>\n",
       "    <tr>\n",
       "      <th>3</th>\n",
       "      <td>1</td>\n",
       "      <td>0</td>\n",
       "      <td>0</td>\n",
       "      <td>0</td>\n",
       "      <td>0</td>\n",
       "      <td>0</td>\n",
       "      <td>0</td>\n",
       "      <td>0</td>\n",
       "      <td>0</td>\n",
       "      <td>0</td>\n",
       "      <td>...</td>\n",
       "      <td>0</td>\n",
       "      <td>0</td>\n",
       "      <td>0</td>\n",
       "      <td>0</td>\n",
       "      <td>0</td>\n",
       "      <td>0</td>\n",
       "      <td>0</td>\n",
       "      <td>0</td>\n",
       "      <td>0</td>\n",
       "      <td>0</td>\n",
       "    </tr>\n",
       "    <tr>\n",
       "      <th>4</th>\n",
       "      <td>9</td>\n",
       "      <td>0</td>\n",
       "      <td>0</td>\n",
       "      <td>0</td>\n",
       "      <td>0</td>\n",
       "      <td>0</td>\n",
       "      <td>0</td>\n",
       "      <td>0</td>\n",
       "      <td>0</td>\n",
       "      <td>0</td>\n",
       "      <td>...</td>\n",
       "      <td>0</td>\n",
       "      <td>0</td>\n",
       "      <td>0</td>\n",
       "      <td>0</td>\n",
       "      <td>0</td>\n",
       "      <td>0</td>\n",
       "      <td>0</td>\n",
       "      <td>0</td>\n",
       "      <td>0</td>\n",
       "      <td>0</td>\n",
       "    </tr>\n",
       "  </tbody>\n",
       "</table>\n",
       "<p>5 rows × 785 columns</p>\n",
       "</div>"
      ],
      "text/plain": [
       "   label  1x1  1x2  1x3  1x4  1x5  1x6  1x7  1x8  1x9  ...  28x19  28x20  \\\n",
       "0      5    0    0    0    0    0    0    0    0    0  ...      0      0   \n",
       "1      0    0    0    0    0    0    0    0    0    0  ...      0      0   \n",
       "2      4    0    0    0    0    0    0    0    0    0  ...      0      0   \n",
       "3      1    0    0    0    0    0    0    0    0    0  ...      0      0   \n",
       "4      9    0    0    0    0    0    0    0    0    0  ...      0      0   \n",
       "\n",
       "   28x21  28x22  28x23  28x24  28x25  28x26  28x27  28x28  \n",
       "0      0      0      0      0      0      0      0      0  \n",
       "1      0      0      0      0      0      0      0      0  \n",
       "2      0      0      0      0      0      0      0      0  \n",
       "3      0      0      0      0      0      0      0      0  \n",
       "4      0      0      0      0      0      0      0      0  \n",
       "\n",
       "[5 rows x 785 columns]"
      ]
     },
     "execution_count": 3,
     "metadata": {},
     "output_type": "execute_result"
    }
   ],
   "source": [
    "# Data Visulization\n",
    "x_train.head()"
   ]
  },
  {
   "cell_type": "code",
   "execution_count": 4,
   "metadata": {},
   "outputs": [],
   "source": [
    "# Data Preprocessing\n",
    "\n",
    "y_train = x_train.iloc[:,0].values\n",
    "x_train = x_train.drop([\"label\"],axis=1)\n",
    "y_test = x_test.iloc[:,0].values\n",
    "x_test = x_test.drop([\"label\"],axis=1)"
   ]
  },
  {
   "cell_type": "code",
   "execution_count": 5,
   "metadata": {},
   "outputs": [],
   "source": [
    "x_train = x_train.to_numpy()\n",
    "x_test = x_test.to_numpy()\n",
    "x_train = x_train.astype('float32')/255\n",
    "x_test = x_test.astype('float32')/255\n",
    "x_train = np.reshape(x_train, (len(x_train), 28, 28, 1))\n",
    "x_test = np.reshape(x_test, (len(x_test), 28, 28, 1))"
   ]
  },
  {
   "cell_type": "code",
   "execution_count": 6,
   "metadata": {},
   "outputs": [],
   "source": [
    "x_train,x_val,y_train,y_val= train_test_split(x_train,y_train,test_size = 0.2, random_state = 0)"
   ]
  },
  {
   "cell_type": "code",
   "execution_count": 7,
   "metadata": {},
   "outputs": [
    {
     "name": "stdout",
     "output_type": "stream",
     "text": [
      "x_train shape = (48000, 28, 28, 1)\n",
      "x_test shape = (10000, 28, 28, 1)\n",
      "x_val shape = (12000, 28, 28, 1)\n"
     ]
    }
   ],
   "source": [
    "print(f'x_train shape = {x_train.shape}')\n",
    "print(f'x_test shape = {x_test.shape}')\n",
    "print(f'x_val shape = {x_val.shape}')"
   ]
  },
  {
   "cell_type": "markdown",
   "metadata": {},
   "source": [
    "# Model"
   ]
  },
  {
   "cell_type": "code",
   "execution_count": 8,
   "metadata": {},
   "outputs": [],
   "source": [
    "autoencoder = Sequential()\n",
    "autoencoder.add(Conv2D(32, (3, 3), activation='relu', padding='same', input_shape=(28, 28, 1)))\n",
    "autoencoder.add(MaxPooling2D((2, 2), padding='same'))\n",
    "autoencoder.add(Conv2D(8, (3, 3), activation='relu', padding='same'))\n",
    "autoencoder.add(MaxPooling2D((2, 2), padding='same'))\n",
    "autoencoder.add(Conv2D(8, (3, 3), activation='relu', padding='same'))\n",
    "\n",
    "autoencoder.add(MaxPooling2D((2, 2), padding='same'))\n",
    " \n",
    "autoencoder.add(Conv2D(8, (3, 3), activation='relu', padding='same'))\n",
    "autoencoder.add(UpSampling2D((2, 2)))\n",
    "autoencoder.add(Conv2D(8, (3, 3), activation='relu', padding='same'))\n",
    "autoencoder.add(UpSampling2D((2, 2)))\n",
    "autoencoder.add(Conv2D(32, (3, 3), activation='relu'))\n",
    "autoencoder.add(UpSampling2D((2, 2)))\n",
    "autoencoder.add(Conv2D(1, (3, 3), activation='relu', padding='same'))"
   ]
  },
  {
   "cell_type": "code",
   "execution_count": 9,
   "metadata": {},
   "outputs": [
    {
     "name": "stdout",
     "output_type": "stream",
     "text": [
      "Model: \"sequential\"\n",
      "_________________________________________________________________\n",
      "Layer (type)                 Output Shape              Param #   \n",
      "=================================================================\n",
      "conv2d (Conv2D)              (None, 28, 28, 32)        320       \n",
      "_________________________________________________________________\n",
      "max_pooling2d (MaxPooling2D) (None, 14, 14, 32)        0         \n",
      "_________________________________________________________________\n",
      "conv2d_1 (Conv2D)            (None, 14, 14, 8)         2312      \n",
      "_________________________________________________________________\n",
      "max_pooling2d_1 (MaxPooling2 (None, 7, 7, 8)           0         \n",
      "_________________________________________________________________\n",
      "conv2d_2 (Conv2D)            (None, 7, 7, 8)           584       \n",
      "_________________________________________________________________\n",
      "max_pooling2d_2 (MaxPooling2 (None, 4, 4, 8)           0         \n",
      "_________________________________________________________________\n",
      "conv2d_3 (Conv2D)            (None, 4, 4, 8)           584       \n",
      "_________________________________________________________________\n",
      "up_sampling2d (UpSampling2D) (None, 8, 8, 8)           0         \n",
      "_________________________________________________________________\n",
      "conv2d_4 (Conv2D)            (None, 8, 8, 8)           584       \n",
      "_________________________________________________________________\n",
      "up_sampling2d_1 (UpSampling2 (None, 16, 16, 8)         0         \n",
      "_________________________________________________________________\n",
      "conv2d_5 (Conv2D)            (None, 14, 14, 32)        2336      \n",
      "_________________________________________________________________\n",
      "up_sampling2d_2 (UpSampling2 (None, 28, 28, 32)        0         \n",
      "_________________________________________________________________\n",
      "conv2d_6 (Conv2D)            (None, 28, 28, 1)         289       \n",
      "=================================================================\n",
      "Total params: 7,009\n",
      "Trainable params: 7,009\n",
      "Non-trainable params: 0\n",
      "_________________________________________________________________\n"
     ]
    }
   ],
   "source": [
    "autoencoder.compile(optimizer='adam', loss='mean_squared_error',metrics = ['accuracy'])\n",
    "autoencoder.summary()"
   ]
  },
  {
   "cell_type": "markdown",
   "metadata": {},
   "source": [
    "# Fit Data"
   ]
  },
  {
   "cell_type": "code",
   "execution_count": 10,
   "metadata": {},
   "outputs": [
    {
     "name": "stdout",
     "output_type": "stream",
     "text": [
      "Train on 48000 samples, validate on 12000 samples\n",
      "Epoch 1/100\n",
      "48000/48000 [==============================] - 118s 2ms/sample - loss: 0.0470 - accuracy: 0.7988 - val_loss: 0.0304 - val_accuracy: 0.8045\n",
      "Epoch 2/100\n",
      "48000/48000 [==============================] - 116s 2ms/sample - loss: 0.0265 - accuracy: 0.8052 - val_loss: 0.0237 - val_accuracy: 0.8060\n",
      "Epoch 3/100\n",
      "48000/48000 [==============================] - 101s 2ms/sample - loss: 0.0223 - accuracy: 0.8077 - val_loss: 0.0208 - val_accuracy: 0.8085\n",
      "Epoch 4/100\n",
      "48000/48000 [==============================] - 99s 2ms/sample - loss: 0.0200 - accuracy: 0.8089 - val_loss: 0.0191 - val_accuracy: 0.8093\n",
      "Epoch 5/100\n",
      "48000/48000 [==============================] - 99s 2ms/sample - loss: 0.0186 - accuracy: 0.8096 - val_loss: 0.0179 - val_accuracy: 0.8091\n",
      "Epoch 6/100\n",
      "48000/48000 [==============================] - 103s 2ms/sample - loss: 0.0175 - accuracy: 0.8101 - val_loss: 0.0170 - val_accuracy: 0.8101\n",
      "Epoch 7/100\n",
      "48000/48000 [==============================] - 100s 2ms/sample - loss: 0.0167 - accuracy: 0.8105 - val_loss: 0.0164 - val_accuracy: 0.8106\n",
      "Epoch 8/100\n",
      "48000/48000 [==============================] - 102s 2ms/sample - loss: 0.0161 - accuracy: 0.8107 - val_loss: 0.0158 - val_accuracy: 0.8107\n",
      "Epoch 9/100\n",
      "48000/48000 [==============================] - 105s 2ms/sample - loss: 0.0156 - accuracy: 0.8110 - val_loss: 0.0153 - val_accuracy: 0.8107\n",
      "Epoch 10/100\n",
      "48000/48000 [==============================] - 99s 2ms/sample - loss: 0.0152 - accuracy: 0.8112 - val_loss: 0.0151 - val_accuracy: 0.8113\n",
      "Epoch 11/100\n",
      "48000/48000 [==============================] - 104s 2ms/sample - loss: 0.0148 - accuracy: 0.8113 - val_loss: 0.0149 - val_accuracy: 0.8101\n",
      "Epoch 12/100\n",
      "48000/48000 [==============================] - 104s 2ms/sample - loss: 0.0145 - accuracy: 0.8115 - val_loss: 0.0144 - val_accuracy: 0.8115\n",
      "Epoch 13/100\n",
      "48000/48000 [==============================] - 104s 2ms/sample - loss: 0.0142 - accuracy: 0.8116 - val_loss: 0.0140 - val_accuracy: 0.8114\n",
      "Epoch 14/100\n",
      "48000/48000 [==============================] - 103s 2ms/sample - loss: 0.0140 - accuracy: 0.8117 - val_loss: 0.0139 - val_accuracy: 0.8106\n",
      "Epoch 15/100\n",
      "48000/48000 [==============================] - 103s 2ms/sample - loss: 0.0137 - accuracy: 0.8119 - val_loss: 0.0137 - val_accuracy: 0.8115\n",
      "Epoch 16/100\n",
      "48000/48000 [==============================] - 104s 2ms/sample - loss: 0.0135 - accuracy: 0.8120 - val_loss: 0.0137 - val_accuracy: 0.8124\n",
      "Epoch 17/100\n",
      "48000/48000 [==============================] - 102s 2ms/sample - loss: 0.0133 - accuracy: 0.8121 - val_loss: 0.0131 - val_accuracy: 0.8115\n",
      "Epoch 18/100\n",
      "48000/48000 [==============================] - 101s 2ms/sample - loss: 0.0131 - accuracy: 0.8122 - val_loss: 0.0130 - val_accuracy: 0.8120\n",
      "Epoch 19/100\n",
      "48000/48000 [==============================] - 102s 2ms/sample - loss: 0.0129 - accuracy: 0.8122 - val_loss: 0.0129 - val_accuracy: 0.8124\n",
      "Epoch 20/100\n",
      "48000/48000 [==============================] - 100s 2ms/sample - loss: 0.0128 - accuracy: 0.8123 - val_loss: 0.0126 - val_accuracy: 0.8119\n",
      "Epoch 21/100\n",
      "48000/48000 [==============================] - 103s 2ms/sample - loss: 0.0126 - accuracy: 0.8124 - val_loss: 0.0124 - val_accuracy: 0.8121\n",
      "Epoch 22/100\n",
      "48000/48000 [==============================] - 102s 2ms/sample - loss: 0.0125 - accuracy: 0.8124 - val_loss: 0.0124 - val_accuracy: 0.8122\n",
      "Epoch 23/100\n",
      "48000/48000 [==============================] - 104s 2ms/sample - loss: 0.0123 - accuracy: 0.8125 - val_loss: 0.0122 - val_accuracy: 0.8123\n",
      "Epoch 24/100\n",
      "48000/48000 [==============================] - 102s 2ms/sample - loss: 0.0123 - accuracy: 0.8125 - val_loss: 0.0122 - val_accuracy: 0.8125\n",
      "Epoch 25/100\n",
      "48000/48000 [==============================] - 102s 2ms/sample - loss: 0.0121 - accuracy: 0.8126 - val_loss: 0.0120 - val_accuracy: 0.8121\n",
      "Epoch 26/100\n",
      "48000/48000 [==============================] - 103s 2ms/sample - loss: 0.0120 - accuracy: 0.8127 - val_loss: 0.0121 - val_accuracy: 0.8127\n",
      "Epoch 27/100\n",
      "48000/48000 [==============================] - 102s 2ms/sample - loss: 0.0119 - accuracy: 0.8127 - val_loss: 0.0118 - val_accuracy: 0.8122\n",
      "Epoch 28/100\n",
      "48000/48000 [==============================] - 103s 2ms/sample - loss: 0.0118 - accuracy: 0.8127 - val_loss: 0.0118 - val_accuracy: 0.8120\n",
      "Epoch 29/100\n",
      "48000/48000 [==============================] - 100s 2ms/sample - loss: 0.0117 - accuracy: 0.8128 - val_loss: 0.0116 - val_accuracy: 0.8121\n",
      "Epoch 30/100\n",
      "48000/48000 [==============================] - 99s 2ms/sample - loss: 0.0116 - accuracy: 0.8128 - val_loss: 0.0116 - val_accuracy: 0.8127\n",
      "Epoch 31/100\n",
      "48000/48000 [==============================] - 99s 2ms/sample - loss: 0.0115 - accuracy: 0.8129 - val_loss: 0.0114 - val_accuracy: 0.8123\n",
      "Epoch 32/100\n",
      "48000/48000 [==============================] - 102s 2ms/sample - loss: 0.0114 - accuracy: 0.8129 - val_loss: 0.0113 - val_accuracy: 0.8123\n",
      "Epoch 33/100\n",
      "48000/48000 [==============================] - 101s 2ms/sample - loss: 0.0113 - accuracy: 0.8129 - val_loss: 0.0114 - val_accuracy: 0.8130\n",
      "Epoch 34/100\n",
      "48000/48000 [==============================] - 102s 2ms/sample - loss: 0.0113 - accuracy: 0.8130 - val_loss: 0.0116 - val_accuracy: 0.8132\n",
      "Epoch 35/100\n",
      "48000/48000 [==============================] - 103s 2ms/sample - loss: 0.0112 - accuracy: 0.8130 - val_loss: 0.0112 - val_accuracy: 0.8123\n",
      "Epoch 36/100\n",
      "48000/48000 [==============================] - 106s 2ms/sample - loss: 0.0111 - accuracy: 0.8130 - val_loss: 0.0115 - val_accuracy: 0.8132\n",
      "Epoch 37/100\n",
      "48000/48000 [==============================] - 100s 2ms/sample - loss: 0.0110 - accuracy: 0.8131 - val_loss: 0.0110 - val_accuracy: 0.8129\n",
      "Epoch 38/100\n",
      "48000/48000 [==============================] - 104s 2ms/sample - loss: 0.0110 - accuracy: 0.8131 - val_loss: 0.0109 - val_accuracy: 0.8126\n",
      "Epoch 39/100\n",
      "48000/48000 [==============================] - 100s 2ms/sample - loss: 0.0109 - accuracy: 0.8131 - val_loss: 0.0108 - val_accuracy: 0.8127\n",
      "Epoch 40/100\n",
      "48000/48000 [==============================] - 100s 2ms/sample - loss: 0.0108 - accuracy: 0.8131 - val_loss: 0.0111 - val_accuracy: 0.8121\n",
      "Epoch 41/100\n",
      "48000/48000 [==============================] - 101s 2ms/sample - loss: 0.0108 - accuracy: 0.8132 - val_loss: 0.0108 - val_accuracy: 0.8126\n",
      "Epoch 42/100\n",
      "48000/48000 [==============================] - 105s 2ms/sample - loss: 0.0107 - accuracy: 0.8132 - val_loss: 0.0107 - val_accuracy: 0.8128\n",
      "Epoch 43/100\n",
      "48000/48000 [==============================] - 162s 3ms/sample - loss: 0.0107 - accuracy: 0.8132 - val_loss: 0.0108 - val_accuracy: 0.8124\n",
      "Epoch 44/100\n",
      "48000/48000 [==============================] - 181s 4ms/sample - loss: 0.0106 - accuracy: 0.8133 - val_loss: 0.0108 - val_accuracy: 0.8132\n",
      "Epoch 45/100\n",
      "48000/48000 [==============================] - 106s 2ms/sample - loss: 0.0106 - accuracy: 0.8132 - val_loss: 0.0106 - val_accuracy: 0.8126\n",
      "Epoch 46/100\n",
      "48000/48000 [==============================] - 108s 2ms/sample - loss: 0.0105 - accuracy: 0.8133 - val_loss: 0.0104 - val_accuracy: 0.8129\n",
      "Epoch 47/100\n",
      "48000/48000 [==============================] - 103s 2ms/sample - loss: 0.0105 - accuracy: 0.8133 - val_loss: 0.0104 - val_accuracy: 0.8130\n",
      "Epoch 48/100\n",
      "48000/48000 [==============================] - 100s 2ms/sample - loss: 0.0104 - accuracy: 0.8133 - val_loss: 0.0104 - val_accuracy: 0.8131\n",
      "Epoch 49/100\n",
      "48000/48000 [==============================] - 102s 2ms/sample - loss: 0.0104 - accuracy: 0.8133 - val_loss: 0.0105 - val_accuracy: 0.8126\n",
      "Epoch 50/100\n",
      "48000/48000 [==============================] - 101s 2ms/sample - loss: 0.0104 - accuracy: 0.8134 - val_loss: 0.0103 - val_accuracy: 0.8129\n",
      "Epoch 51/100\n",
      "48000/48000 [==============================] - 100s 2ms/sample - loss: 0.0103 - accuracy: 0.8134 - val_loss: 0.0107 - val_accuracy: 0.8135\n",
      "Epoch 52/100\n",
      "48000/48000 [==============================] - 100s 2ms/sample - loss: 0.0102 - accuracy: 0.8134 - val_loss: 0.0102 - val_accuracy: 0.8128\n",
      "Epoch 53/100\n",
      "48000/48000 [==============================] - 104s 2ms/sample - loss: 0.0102 - accuracy: 0.8134 - val_loss: 0.0102 - val_accuracy: 0.8132\n",
      "Epoch 54/100\n",
      "48000/48000 [==============================] - 105s 2ms/sample - loss: 0.0102 - accuracy: 0.8134 - val_loss: 0.0102 - val_accuracy: 0.8132\n",
      "Epoch 55/100\n",
      "48000/48000 [==============================] - 105s 2ms/sample - loss: 0.0102 - accuracy: 0.8134 - val_loss: 0.0101 - val_accuracy: 0.8129\n",
      "Epoch 56/100\n",
      "48000/48000 [==============================] - 102s 2ms/sample - loss: 0.0101 - accuracy: 0.8134 - val_loss: 0.0101 - val_accuracy: 0.8129\n",
      "Epoch 57/100\n",
      "48000/48000 [==============================] - 102s 2ms/sample - loss: 0.0101 - accuracy: 0.8134 - val_loss: 0.0102 - val_accuracy: 0.8133\n",
      "Epoch 58/100\n",
      "48000/48000 [==============================] - 98s 2ms/sample - loss: 0.0101 - accuracy: 0.8135 - val_loss: 0.0100 - val_accuracy: 0.8131\n",
      "Epoch 59/100\n",
      "48000/48000 [==============================] - 97s 2ms/sample - loss: 0.0100 - accuracy: 0.8135 - val_loss: 0.0100 - val_accuracy: 0.8132\n",
      "Epoch 60/100\n",
      "48000/48000 [==============================] - 97s 2ms/sample - loss: 0.0100 - accuracy: 0.8135 - val_loss: 0.0103 - val_accuracy: 0.8134\n",
      "Epoch 61/100\n",
      "48000/48000 [==============================] - 97s 2ms/sample - loss: 0.0100 - accuracy: 0.8135 - val_loss: 0.0099 - val_accuracy: 0.8131\n",
      "Epoch 62/100\n",
      "48000/48000 [==============================] - 97s 2ms/sample - loss: 0.0099 - accuracy: 0.8135 - val_loss: 0.0102 - val_accuracy: 0.8134\n",
      "Epoch 63/100\n",
      "48000/48000 [==============================] - 97s 2ms/sample - loss: 0.0099 - accuracy: 0.8135 - val_loss: 0.0099 - val_accuracy: 0.8132\n",
      "Epoch 64/100\n",
      "48000/48000 [==============================] - 97s 2ms/sample - loss: 0.0099 - accuracy: 0.8135 - val_loss: 0.0101 - val_accuracy: 0.8127\n",
      "Epoch 65/100\n",
      "48000/48000 [==============================] - 97s 2ms/sample - loss: 0.0099 - accuracy: 0.8135 - val_loss: 0.0098 - val_accuracy: 0.8133\n",
      "Epoch 66/100\n",
      "48000/48000 [==============================] - 98s 2ms/sample - loss: 0.0098 - accuracy: 0.8136 - val_loss: 0.0098 - val_accuracy: 0.8129\n",
      "Epoch 67/100\n",
      "48000/48000 [==============================] - 98s 2ms/sample - loss: 0.0098 - accuracy: 0.8136 - val_loss: 0.0098 - val_accuracy: 0.8132\n",
      "Epoch 68/100\n",
      "48000/48000 [==============================] - 97s 2ms/sample - loss: 0.0098 - accuracy: 0.8136 - val_loss: 0.0098 - val_accuracy: 0.8134\n",
      "Epoch 69/100\n",
      "48000/48000 [==============================] - 98s 2ms/sample - loss: 0.0098 - accuracy: 0.8136 - val_loss: 0.0097 - val_accuracy: 0.8134\n",
      "Epoch 70/100\n",
      "48000/48000 [==============================] - 98s 2ms/sample - loss: 0.0097 - accuracy: 0.8136 - val_loss: 0.0097 - val_accuracy: 0.8132\n",
      "Epoch 71/100\n",
      "48000/48000 [==============================] - 98s 2ms/sample - loss: 0.0097 - accuracy: 0.8136 - val_loss: 0.0098 - val_accuracy: 0.8129\n",
      "Epoch 72/100\n",
      "48000/48000 [==============================] - 97s 2ms/sample - loss: 0.0097 - accuracy: 0.8136 - val_loss: 0.0097 - val_accuracy: 0.8133\n",
      "Epoch 73/100\n",
      "48000/48000 [==============================] - 97s 2ms/sample - loss: 0.0097 - accuracy: 0.8136 - val_loss: 0.0096 - val_accuracy: 0.8133\n",
      "Epoch 74/100\n",
      "48000/48000 [==============================] - 97s 2ms/sample - loss: 0.0096 - accuracy: 0.8136 - val_loss: 0.0096 - val_accuracy: 0.8130\n",
      "Epoch 75/100\n",
      "48000/48000 [==============================] - 97s 2ms/sample - loss: 0.0096 - accuracy: 0.8136 - val_loss: 0.0096 - val_accuracy: 0.8131\n",
      "Epoch 76/100\n",
      "48000/48000 [==============================] - 97s 2ms/sample - loss: 0.0096 - accuracy: 0.8137 - val_loss: 0.0096 - val_accuracy: 0.8133\n",
      "Epoch 77/100\n",
      "48000/48000 [==============================] - 97s 2ms/sample - loss: 0.0096 - accuracy: 0.8136 - val_loss: 0.0096 - val_accuracy: 0.8135\n",
      "Epoch 78/100\n",
      "48000/48000 [==============================] - 97s 2ms/sample - loss: 0.0096 - accuracy: 0.8137 - val_loss: 0.0095 - val_accuracy: 0.8133\n",
      "Epoch 79/100\n",
      "48000/48000 [==============================] - 99s 2ms/sample - loss: 0.0095 - accuracy: 0.8137 - val_loss: 0.0095 - val_accuracy: 0.8134\n",
      "Epoch 80/100\n",
      "48000/48000 [==============================] - 97s 2ms/sample - loss: 0.0095 - accuracy: 0.8137 - val_loss: 0.0095 - val_accuracy: 0.8134\n",
      "Epoch 81/100\n",
      "48000/48000 [==============================] - 97s 2ms/sample - loss: 0.0095 - accuracy: 0.8137 - val_loss: 0.0097 - val_accuracy: 0.8136\n",
      "Epoch 82/100\n",
      "48000/48000 [==============================] - 97s 2ms/sample - loss: 0.0095 - accuracy: 0.8137 - val_loss: 0.0094 - val_accuracy: 0.8133\n",
      "Epoch 83/100\n",
      "48000/48000 [==============================] - 97s 2ms/sample - loss: 0.0095 - accuracy: 0.8137 - val_loss: 0.0095 - val_accuracy: 0.8131\n",
      "Epoch 84/100\n",
      "48000/48000 [==============================] - 97s 2ms/sample - loss: 0.0095 - accuracy: 0.8137 - val_loss: 0.0095 - val_accuracy: 0.8131\n",
      "Epoch 85/100\n",
      "48000/48000 [==============================] - 97s 2ms/sample - loss: 0.0094 - accuracy: 0.8137 - val_loss: 0.0095 - val_accuracy: 0.8136\n",
      "Epoch 86/100\n",
      "48000/48000 [==============================] - 97s 2ms/sample - loss: 0.0094 - accuracy: 0.8137 - val_loss: 0.0094 - val_accuracy: 0.8131\n",
      "Epoch 87/100\n",
      "48000/48000 [==============================] - 97s 2ms/sample - loss: 0.0094 - accuracy: 0.8137 - val_loss: 0.0094 - val_accuracy: 0.8135\n",
      "Epoch 88/100\n",
      "48000/48000 [==============================] - 97s 2ms/sample - loss: 0.0094 - accuracy: 0.8137 - val_loss: 0.0094 - val_accuracy: 0.8135\n",
      "Epoch 89/100\n",
      "48000/48000 [==============================] - 97s 2ms/sample - loss: 0.0094 - accuracy: 0.8137 - val_loss: 0.0093 - val_accuracy: 0.8133\n",
      "Epoch 90/100\n",
      "48000/48000 [==============================] - 96s 2ms/sample - loss: 0.0094 - accuracy: 0.8137 - val_loss: 0.0094 - val_accuracy: 0.8131\n",
      "Epoch 91/100\n",
      "48000/48000 [==============================] - 96s 2ms/sample - loss: 0.0093 - accuracy: 0.8138 - val_loss: 0.0095 - val_accuracy: 0.8130\n",
      "Epoch 92/100\n",
      "48000/48000 [==============================] - 96s 2ms/sample - loss: 0.0094 - accuracy: 0.8138 - val_loss: 0.0094 - val_accuracy: 0.8132\n",
      "Epoch 93/100\n",
      "48000/48000 [==============================] - 96s 2ms/sample - loss: 0.0093 - accuracy: 0.8138 - val_loss: 0.0094 - val_accuracy: 0.8131\n",
      "Epoch 94/100\n",
      "48000/48000 [==============================] - 96s 2ms/sample - loss: 0.0093 - accuracy: 0.8138 - val_loss: 0.0093 - val_accuracy: 0.8134\n",
      "Epoch 95/100\n",
      "48000/48000 [==============================] - 96s 2ms/sample - loss: 0.0093 - accuracy: 0.8138 - val_loss: 0.0093 - val_accuracy: 0.8134\n",
      "Epoch 96/100\n",
      "48000/48000 [==============================] - 96s 2ms/sample - loss: 0.0092 - accuracy: 0.8138 - val_loss: 0.0093 - val_accuracy: 0.8132\n",
      "Epoch 97/100\n",
      "48000/48000 [==============================] - 96s 2ms/sample - loss: 0.0093 - accuracy: 0.8138 - val_loss: 0.0093 - val_accuracy: 0.8135\n",
      "Epoch 98/100\n",
      "48000/48000 [==============================] - 97s 2ms/sample - loss: 0.0092 - accuracy: 0.8138 - val_loss: 0.0092 - val_accuracy: 0.8132\n",
      "Epoch 99/100\n",
      "48000/48000 [==============================] - 98s 2ms/sample - loss: 0.0092 - accuracy: 0.8138 - val_loss: 0.0092 - val_accuracy: 0.8136\n",
      "Epoch 100/100\n",
      "48000/48000 [==============================] - 99s 2ms/sample - loss: 0.0092 - accuracy: 0.8138 - val_loss: 0.0092 - val_accuracy: 0.8134\n"
     ]
    }
   ],
   "source": [
    "history = autoencoder.fit(x_train, x_train, epochs=100, batch_size = 256, shuffle = True,\n",
    "              validation_data = (x_val,x_val))"
   ]
  },
  {
   "cell_type": "code",
   "execution_count": 11,
   "metadata": {},
   "outputs": [
    {
     "name": "stdout",
     "output_type": "stream",
     "text": [
      "dict_keys(['loss', 'accuracy', 'val_loss', 'val_accuracy'])\n"
     ]
    },
    {
     "data": {
      "image/png": "[encoded data removed]",
      "text/plain": [
       "<Figure size 432x288 with 1 Axes>"
      ]
     },
     "metadata": {
      "needs_background": "light"
     },
     "output_type": "display_data"
    },
    {
     "data": {
      "image/png": "[encoded data removed]",
      "text/plain": [
       "<Figure size 432x288 with 1 Axes>"
      ]
     },
     "metadata": {
      "needs_background": "light"
     },
     "output_type": "display_data"
    }
   ],
   "source": [
    "# Plot training loss and validation split loss over the epochs\n",
    "\n",
    "print(history.history.keys())\n",
    "# summarize history for accuracy\n",
    "plt.plot(history.history['accuracy'])\n",
    "plt.plot(history.history['val_accuracy'])\n",
    "plt.title('model accuracy')\n",
    "plt.ylabel('accuracy')\n",
    "plt.xlabel('epoch')\n",
    "plt.legend(['train', 'test'], loc='lower right')\n",
    "plt.savefig('Convae_model_accuracy.png')\n",
    "plt.show()\n",
    "\n",
    "\n",
    "# summarize history for loss\n",
    "plt.plot(history.history['loss'])\n",
    "plt.plot(history.history['val_loss'])\n",
    "plt.title('model loss')\n",
    "plt.ylabel('loss')\n",
    "plt.xlabel('epoch')\n",
    "plt.legend(['train', 'test'], loc='upper right')\n",
    "plt.savefig('Convae_model_loss.png')\n",
    "plt.show()"
   ]
  },
  {
   "cell_type": "code",
   "execution_count": 13,
   "metadata": {},
   "outputs": [],
   "source": [
    "reconstructed_imgs = autoencoder.predict(x_test)"
   ]
  },
  {
   "cell_type": "code",
   "execution_count": 14,
   "metadata": {},
   "outputs": [
    {
     "name": "stdout",
     "output_type": "stream",
     "text": [
      "10000/10000 [==============================] - 5s 464us/sample - loss: 0.0090 - accuracy: 0.8128\n",
      "Loss: 0.0089715894959867\n",
      "Accuracy 81.28114938735962\n"
     ]
    }
   ],
   "source": [
    "evaluation = autoencoder.evaluate(x_test, x_test)\n",
    "\n",
    "print(\"Loss:\",evaluation[0])\n",
    "print(\"Accuracy\",evaluation[1]*100)"
   ]
  },
  {
   "cell_type": "code",
   "execution_count": null,
   "metadata": {},
   "outputs": [],
   "source": []
  },
  {
   "cell_type": "code",
   "execution_count": 16,
   "metadata": {},
   "outputs": [
    {
     "data": {
      "image/png": "[encoded data removed]",
      "text/plain": [
       "<Figure size 1440x288 with 20 Axes>"
      ]
     },
     "metadata": {
      "needs_background": "light"
     },
     "output_type": "display_data"
    }
   ],
   "source": [
    "# Ploting the original input vs reconstructed output\n",
    "n = 10\n",
    "plt.figure(figsize =(20,4))\n",
    "\n",
    "for i in range(n):\n",
    "    ax = plt.subplot(2, n, i+1)\n",
    "    plt.imshow(x_test[i].reshape(28,28))\n",
    "    plt.gray()\n",
    "    ax.get_xaxis().set_visible(False)\n",
    "    ax.get_yaxis().set_visible(False)\n",
    "    \n",
    "    ax = plt.subplot(2,n, i+1+n)\n",
    "    plt.imshow(reconstructed_imgs[i].reshape(28,28))\n",
    "    plt.gray()\n",
    "    ax.get_xaxis().set_visible(False)\n",
    "    ax.get_yaxis().set_visible(False)\n",
    "plt.savefig('Convae_model_output.png')\n",
    "plt.show()"
   ]
  },
  {
   "cell_type": "code",
   "execution_count": null,
   "metadata": {},
   "outputs": [],
   "source": []
  },
  {
   "cell_type": "code",
   "execution_count": null,
   "metadata": {},
   "outputs": [],
   "source": []
  }
 ],
 "metadata": {
  "kernelspec": {
   "display_name": "Python 3",
   "language": "python",
   "name": "python3"
  },
  "language_info": {
   "codemirror_mode": {
    "name": "ipython",
    "version": 3
   },
   "file_extension": ".py",
   "mimetype": "text/x-python",
   "name": "python",
   "nbconvert_exporter": "python",
   "pygments_lexer": "ipython3",
   "version": "3.7.7"
  }
 },
 "nbformat": 4,
 "nbformat_minor": 4
}
