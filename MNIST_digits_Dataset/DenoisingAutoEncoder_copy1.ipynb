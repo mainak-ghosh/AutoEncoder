{
 "cells": [
  {
   "cell_type": "code",
   "execution_count": 1,
   "metadata": {},
   "outputs": [
    {
     "name": "stderr",
     "output_type": "stream",
     "text": [
      "Using TensorFlow backend.\n"
     ]
    }
   ],
   "source": [
    "from keras.models import Model, Sequential\n",
    "from keras.layers import Input, Dense, Dropout\n",
    "from keras.callbacks import History\n",
    "history = History()\n",
    "import numpy as np\n",
    "import pandas as pd\n",
    "import matplotlib.pyplot as plt\n",
    "from sklearn.model_selection import train_test_split"
   ]
  },
  {
   "cell_type": "markdown",
   "metadata": {},
   "source": [
    "# Data Acquisition"
   ]
  },
  {
   "cell_type": "code",
   "execution_count": 2,
   "metadata": {},
   "outputs": [],
   "source": [
    "# Data Acuisition\n",
    "x_train=pd.read_csv(\"mnist_train.csv\")\n",
    "x_test=pd.read_csv(\"mnist_test.csv\")"
   ]
  },
  {
   "cell_type": "code",
   "execution_count": 3,
   "metadata": {},
   "outputs": [
    {
     "data": {
      "text/html": [
       "<div>\n",
       "<style scoped>\n",
       "    .dataframe tbody tr th:only-of-type {\n",
       "        vertical-align: middle;\n",
       "    }\n",
       "\n",
       "    .dataframe tbody tr th {\n",
       "        vertical-align: top;\n",
       "    }\n",
       "\n",
       "    .dataframe thead th {\n",
       "        text-align: right;\n",
       "    }\n",
       "</style>\n",
       "<table border=\"1\" class=\"dataframe\">\n",
       "  <thead>\n",
       "    <tr style=\"text-align: right;\">\n",
       "      <th></th>\n",
       "      <th>label</th>\n",
       "      <th>1x1</th>\n",
       "      <th>1x2</th>\n",
       "      <th>1x3</th>\n",
       "      <th>1x4</th>\n",
       "      <th>1x5</th>\n",
       "      <th>1x6</th>\n",
       "      <th>1x7</th>\n",
       "      <th>1x8</th>\n",
       "      <th>1x9</th>\n",
       "      <th>...</th>\n",
       "      <th>28x19</th>\n",
       "      <th>28x20</th>\n",
       "      <th>28x21</th>\n",
       "      <th>28x22</th>\n",
       "      <th>28x23</th>\n",
       "      <th>28x24</th>\n",
       "      <th>28x25</th>\n",
       "      <th>28x26</th>\n",
       "      <th>28x27</th>\n",
       "      <th>28x28</th>\n",
       "    </tr>\n",
       "  </thead>\n",
       "  <tbody>\n",
       "    <tr>\n",
       "      <th>0</th>\n",
       "      <td>5</td>\n",
       "      <td>0</td>\n",
       "      <td>0</td>\n",
       "      <td>0</td>\n",
       "      <td>0</td>\n",
       "      <td>0</td>\n",
       "      <td>0</td>\n",
       "      <td>0</td>\n",
       "      <td>0</td>\n",
       "      <td>0</td>\n",
       "      <td>...</td>\n",
       "      <td>0</td>\n",
       "      <td>0</td>\n",
       "      <td>0</td>\n",
       "      <td>0</td>\n",
       "      <td>0</td>\n",
       "      <td>0</td>\n",
       "      <td>0</td>\n",
       "      <td>0</td>\n",
       "      <td>0</td>\n",
       "      <td>0</td>\n",
       "    </tr>\n",
       "    <tr>\n",
       "      <th>1</th>\n",
       "      <td>0</td>\n",
       "      <td>0</td>\n",
       "      <td>0</td>\n",
       "      <td>0</td>\n",
       "      <td>0</td>\n",
       "      <td>0</td>\n",
       "      <td>0</td>\n",
       "      <td>0</td>\n",
       "      <td>0</td>\n",
       "      <td>0</td>\n",
       "      <td>...</td>\n",
       "      <td>0</td>\n",
       "      <td>0</td>\n",
       "      <td>0</td>\n",
       "      <td>0</td>\n",
       "      <td>0</td>\n",
       "      <td>0</td>\n",
       "      <td>0</td>\n",
       "      <td>0</td>\n",
       "      <td>0</td>\n",
       "      <td>0</td>\n",
       "    </tr>\n",
       "    <tr>\n",
       "      <th>2</th>\n",
       "      <td>4</td>\n",
       "      <td>0</td>\n",
       "      <td>0</td>\n",
       "      <td>0</td>\n",
       "      <td>0</td>\n",
       "      <td>0</td>\n",
       "      <td>0</td>\n",
       "      <td>0</td>\n",
       "      <td>0</td>\n",
       "      <td>0</td>\n",
       "      <td>...</td>\n",
       "      <td>0</td>\n",
       "      <td>0</td>\n",
       "      <td>0</td>\n",
       "      <td>0</td>\n",
       "      <td>0</td>\n",
       "      <td>0</td>\n",
       "      <td>0</td>\n",
       "      <td>0</td>\n",
       "      <td>0</td>\n",
       "      <td>0</td>\n",
       "    </tr>\n",
       "    <tr>\n",
       "      <th>3</th>\n",
       "      <td>1</td>\n",
       "      <td>0</td>\n",
       "      <td>0</td>\n",
       "      <td>0</td>\n",
       "      <td>0</td>\n",
       "      <td>0</td>\n",
       "      <td>0</td>\n",
       "      <td>0</td>\n",
       "      <td>0</td>\n",
       "      <td>0</td>\n",
       "      <td>...</td>\n",
       "      <td>0</td>\n",
       "      <td>0</td>\n",
       "      <td>0</td>\n",
       "      <td>0</td>\n",
       "      <td>0</td>\n",
       "      <td>0</td>\n",
       "      <td>0</td>\n",
       "      <td>0</td>\n",
       "      <td>0</td>\n",
       "      <td>0</td>\n",
       "    </tr>\n",
       "    <tr>\n",
       "      <th>4</th>\n",
       "      <td>9</td>\n",
       "      <td>0</td>\n",
       "      <td>0</td>\n",
       "      <td>0</td>\n",
       "      <td>0</td>\n",
       "      <td>0</td>\n",
       "      <td>0</td>\n",
       "      <td>0</td>\n",
       "      <td>0</td>\n",
       "      <td>0</td>\n",
       "      <td>...</td>\n",
       "      <td>0</td>\n",
       "      <td>0</td>\n",
       "      <td>0</td>\n",
       "      <td>0</td>\n",
       "      <td>0</td>\n",
       "      <td>0</td>\n",
       "      <td>0</td>\n",
       "      <td>0</td>\n",
       "      <td>0</td>\n",
       "      <td>0</td>\n",
       "    </tr>\n",
       "  </tbody>\n",
       "</table>\n",
       "<p>5 rows × 785 columns</p>\n",
       "</div>"
      ],
      "text/plain": [
       "   label  1x1  1x2  1x3  1x4  1x5  1x6  1x7  1x8  1x9  ...  28x19  28x20  \\\n",
       "0      5    0    0    0    0    0    0    0    0    0  ...      0      0   \n",
       "1      0    0    0    0    0    0    0    0    0    0  ...      0      0   \n",
       "2      4    0    0    0    0    0    0    0    0    0  ...      0      0   \n",
       "3      1    0    0    0    0    0    0    0    0    0  ...      0      0   \n",
       "4      9    0    0    0    0    0    0    0    0    0  ...      0      0   \n",
       "\n",
       "   28x21  28x22  28x23  28x24  28x25  28x26  28x27  28x28  \n",
       "0      0      0      0      0      0      0      0      0  \n",
       "1      0      0      0      0      0      0      0      0  \n",
       "2      0      0      0      0      0      0      0      0  \n",
       "3      0      0      0      0      0      0      0      0  \n",
       "4      0      0      0      0      0      0      0      0  \n",
       "\n",
       "[5 rows x 785 columns]"
      ]
     },
     "execution_count": 3,
     "metadata": {},
     "output_type": "execute_result"
    }
   ],
   "source": [
    "# Data Visulization\n",
    "x_train.head()"
   ]
  },
  {
   "cell_type": "code",
   "execution_count": 4,
   "metadata": {},
   "outputs": [],
   "source": [
    "# Data Preprocessing\n",
    "\n",
    "y_train = x_train.iloc[:,1].values\n",
    "x_train = x_train.drop([\"label\"],axis=1)\n",
    "y_test = x_test.iloc[:,1].values\n",
    "x_test = x_test.drop([\"label\"],axis=1)"
   ]
  },
  {
   "cell_type": "code",
   "execution_count": 5,
   "metadata": {},
   "outputs": [],
   "source": [
    "x_train = x_train.to_numpy()\n",
    "x_test = x_test.to_numpy()\n",
    "x_train = x_train.astype('float32')/255\n",
    "x_test = x_test.astype('float32')/255"
   ]
  },
  {
   "cell_type": "code",
   "execution_count": 6,
   "metadata": {},
   "outputs": [],
   "source": [
    "x_train,x_val,y_train,y_val= train_test_split(x_train,y_train,test_size = 0.2, random_state = 0)"
   ]
  },
  {
   "cell_type": "code",
   "execution_count": 7,
   "metadata": {},
   "outputs": [],
   "source": [
    "#adding some noise\n",
    "noise_factor = 0.4\n",
    "x_train_noisy = x_train + noise_factor * np.random.normal(loc=0.0, scale=1.0, size=x_train.shape) \n",
    "x_test_noisy = x_test + noise_factor * np.random.normal(loc=0.0, scale=1.0, size=x_test.shape)\n",
    "x_val_noisy = x_val + noise_factor * np.random.normal(loc=0.0, scale=1.0, size=x_val.shape) \n",
    "\n",
    "x_train_noisy = np.clip(x_train_noisy, 0., 1.)\n",
    "x_test_noisy = np.clip(x_test_noisy, 0., 1.)"
   ]
  },
  {
   "cell_type": "code",
   "execution_count": 8,
   "metadata": {},
   "outputs": [
    {
     "data": {
      "image/png": "[encoded data removed]",
      "text/plain": [
       "<Figure size 1440x288 with 10 Axes>"
      ]
     },
     "metadata": {
      "needs_background": "light"
     },
     "output_type": "display_data"
    }
   ],
   "source": [
    "#Data Visualizaion\n",
    "n = 10\n",
    "plt.figure(figsize =(20,4))\n",
    "\n",
    "for i in range(n):\n",
    "    ax = plt.subplot(1, n, i+1)\n",
    "    plt.imshow(x_train_noisy[i].reshape(28,28))\n",
    "    plt.gray()\n",
    "plt.savefig('denoisingmnist.png')\n",
    "plt.show()"
   ]
  },
  {
   "cell_type": "code",
   "execution_count": 9,
   "metadata": {},
   "outputs": [
    {
     "name": "stdout",
     "output_type": "stream",
     "text": [
      "x_train shape = (48000, 784)\n",
      "x_test shape = (10000, 784)\n",
      "x_val shape = (12000, 784)\n"
     ]
    }
   ],
   "source": [
    "print(f'x_train shape = {x_train.shape}')\n",
    "print(f'x_test shape = {x_test.shape}')\n",
    "print(f'x_val shape = {x_val.shape}')"
   ]
  },
  {
   "cell_type": "markdown",
   "metadata": {},
   "source": [
    "# Model"
   ]
  },
  {
   "cell_type": "code",
   "execution_count": 10,
   "metadata": {},
   "outputs": [],
   "source": [
    "autoencoder = Sequential()\n",
    "autoencoder.add(Dense(128, input_dim=784, activation='relu'))\n",
    "autoencoder.add(Dense(64, activation='relu'))\n",
    "autoencoder.add(Dense(32, activation='relu'))\n",
    "autoencoder.add(Dense(64, activation='relu'))\n",
    "autoencoder.add(Dense(128, activation='relu'))\n",
    "autoencoder.add(Dense(784, activation='sigmoid'))"
   ]
  },
  {
   "cell_type": "code",
   "execution_count": 11,
   "metadata": {},
   "outputs": [
    {
     "name": "stdout",
     "output_type": "stream",
     "text": [
      "Model: \"sequential_1\"\n",
      "_________________________________________________________________\n",
      "Layer (type)                 Output Shape              Param #   \n",
      "=================================================================\n",
      "dense_1 (Dense)              (None, 128)               100480    \n",
      "_________________________________________________________________\n",
      "dense_2 (Dense)              (None, 64)                8256      \n",
      "_________________________________________________________________\n",
      "dense_3 (Dense)              (None, 32)                2080      \n",
      "_________________________________________________________________\n",
      "dense_4 (Dense)              (None, 64)                2112      \n",
      "_________________________________________________________________\n",
      "dense_5 (Dense)              (None, 128)               8320      \n",
      "_________________________________________________________________\n",
      "dense_6 (Dense)              (None, 784)               101136    \n",
      "=================================================================\n",
      "Total params: 222,384\n",
      "Trainable params: 222,384\n",
      "Non-trainable params: 0\n",
      "_________________________________________________________________\n"
     ]
    }
   ],
   "source": [
    "autoencoder.compile(optimizer='adadelta', loss = 'binary_crossentropy')\n",
    "autoencoder.summary()"
   ]
  },
  {
   "cell_type": "markdown",
   "metadata": {},
   "source": [
    "# Fit Data"
   ]
  },
  {
   "cell_type": "code",
   "execution_count": 12,
   "metadata": {},
   "outputs": [
    {
     "name": "stdout",
     "output_type": "stream",
     "text": [
      "Train on 48000 samples, validate on 12000 samples\n",
      "Epoch 1/150\n",
      "48000/48000 [==============================] - 3s 65us/step - loss: 0.3310 - accuracy: 0.7553 - val_loss: 0.2869 - val_accuracy: 0.7933\n",
      "Epoch 2/150\n",
      "48000/48000 [==============================] - 3s 58us/step - loss: 0.2602 - accuracy: 0.7977 - val_loss: 0.2845 - val_accuracy: 0.7952\n",
      "Epoch 3/150\n",
      "48000/48000 [==============================] - 3s 59us/step - loss: 0.2551 - accuracy: 0.7980 - val_loss: 0.2760 - val_accuracy: 0.7938\n",
      "Epoch 4/150\n",
      "48000/48000 [==============================] - 3s 60us/step - loss: 0.2471 - accuracy: 0.7947 - val_loss: 0.2659 - val_accuracy: 0.7876\n",
      "Epoch 5/150\n",
      "48000/48000 [==============================] - 3s 62us/step - loss: 0.2425 - accuracy: 0.7941 - val_loss: 0.2593 - val_accuracy: 0.7869\n",
      "Epoch 6/150\n",
      "48000/48000 [==============================] - 3s 61us/step - loss: 0.2393 - accuracy: 0.7951 - val_loss: 0.2549 - val_accuracy: 0.7855\n",
      "Epoch 7/150\n",
      "48000/48000 [==============================] - 3s 59us/step - loss: 0.2330 - accuracy: 0.7959 - val_loss: 0.2368 - val_accuracy: 0.7958\n",
      "Epoch 8/150\n",
      "48000/48000 [==============================] - 3s 60us/step - loss: 0.2208 - accuracy: 0.7947 - val_loss: 0.2250 - val_accuracy: 0.7914\n",
      "Epoch 9/150\n",
      "48000/48000 [==============================] - 3s 66us/step - loss: 0.2101 - accuracy: 0.7949 - val_loss: 0.2163 - val_accuracy: 0.7912\n",
      "Epoch 10/150\n",
      "48000/48000 [==============================] - 3s 66us/step - loss: 0.2017 - accuracy: 0.7954 - val_loss: 0.2083 - val_accuracy: 0.7908\n",
      "Epoch 11/150\n",
      "48000/48000 [==============================] - 3s 63us/step - loss: 0.1969 - accuracy: 0.7961 - val_loss: 0.2036 - val_accuracy: 0.7916\n",
      "Epoch 12/150\n",
      "48000/48000 [==============================] - 3s 62us/step - loss: 0.1925 - accuracy: 0.7974 - val_loss: 0.2017 - val_accuracy: 0.7901\n",
      "Epoch 13/150\n",
      "48000/48000 [==============================] - 3s 62us/step - loss: 0.1883 - accuracy: 0.7984 - val_loss: 0.2022 - val_accuracy: 0.7852\n",
      "Epoch 14/150\n",
      "48000/48000 [==============================] - 3s 63us/step - loss: 0.1843 - accuracy: 0.7992 - val_loss: 0.1954 - val_accuracy: 0.7897\n",
      "Epoch 15/150\n",
      "48000/48000 [==============================] - 3s 68us/step - loss: 0.1810 - accuracy: 0.7998 - val_loss: 0.1928 - val_accuracy: 0.7901\n",
      "Epoch 16/150\n",
      "48000/48000 [==============================] - 3s 63us/step - loss: 0.1782 - accuracy: 0.8004 - val_loss: 0.1933 - val_accuracy: 0.7871\n",
      "Epoch 17/150\n",
      "48000/48000 [==============================] - 3s 63us/step - loss: 0.1761 - accuracy: 0.8007 - val_loss: 0.1915 - val_accuracy: 0.7887\n",
      "Epoch 18/150\n",
      "48000/48000 [==============================] - 3s 65us/step - loss: 0.1736 - accuracy: 0.8013 - val_loss: 0.1982 - val_accuracy: 0.7813\n",
      "Epoch 19/150\n",
      "48000/48000 [==============================] - 3s 72us/step - loss: 0.1713 - accuracy: 0.8016 - val_loss: 0.1868 - val_accuracy: 0.7892\n",
      "Epoch 20/150\n",
      "48000/48000 [==============================] - 3s 70us/step - loss: 0.1692 - accuracy: 0.8020 - val_loss: 0.1846 - val_accuracy: 0.7882\n",
      "Epoch 21/150\n",
      "48000/48000 [==============================] - 3s 69us/step - loss: 0.1671 - accuracy: 0.8024 - val_loss: 0.1901 - val_accuracy: 0.7848\n",
      "Epoch 22/150\n",
      "48000/48000 [==============================] - 3s 71us/step - loss: 0.1649 - accuracy: 0.8028 - val_loss: 0.1905 - val_accuracy: 0.7841\n",
      "Epoch 23/150\n",
      "48000/48000 [==============================] - 3s 67us/step - loss: 0.1628 - accuracy: 0.8033 - val_loss: 0.1808 - val_accuracy: 0.7895\n",
      "Epoch 24/150\n",
      "48000/48000 [==============================] - 3s 65us/step - loss: 0.1612 - accuracy: 0.8036 - val_loss: 0.1948 - val_accuracy: 0.7819\n",
      "Epoch 25/150\n",
      "48000/48000 [==============================] - 3s 66us/step - loss: 0.1597 - accuracy: 0.8039 - val_loss: 0.1795 - val_accuracy: 0.7902\n",
      "Epoch 26/150\n",
      "48000/48000 [==============================] - 3s 66us/step - loss: 0.1581 - accuracy: 0.8042 - val_loss: 0.1909 - val_accuracy: 0.7839\n",
      "Epoch 27/150\n",
      "48000/48000 [==============================] - 3s 66us/step - loss: 0.1570 - accuracy: 0.8044 - val_loss: 0.1836 - val_accuracy: 0.7885\n",
      "Epoch 28/150\n",
      "48000/48000 [==============================] - 3s 67us/step - loss: 0.1559 - accuracy: 0.8046 - val_loss: 0.1876 - val_accuracy: 0.7855\n",
      "Epoch 29/150\n",
      "48000/48000 [==============================] - 3s 66us/step - loss: 0.1545 - accuracy: 0.8049 - val_loss: 0.1867 - val_accuracy: 0.7855\n",
      "Epoch 30/150\n",
      "48000/48000 [==============================] - 3s 65us/step - loss: 0.1536 - accuracy: 0.8050 - val_loss: 0.1723 - val_accuracy: 0.7935\n",
      "Epoch 31/150\n",
      "48000/48000 [==============================] - 3s 66us/step - loss: 0.1526 - accuracy: 0.8052 - val_loss: 0.1811 - val_accuracy: 0.7891\n",
      "Epoch 32/150\n",
      "48000/48000 [==============================] - 3s 65us/step - loss: 0.1517 - accuracy: 0.8053 - val_loss: 0.1720 - val_accuracy: 0.7936\n",
      "Epoch 33/150\n",
      "48000/48000 [==============================] - 3s 65us/step - loss: 0.1506 - accuracy: 0.8056 - val_loss: 0.1818 - val_accuracy: 0.7877\n",
      "Epoch 34/150\n",
      "48000/48000 [==============================] - 3s 65us/step - loss: 0.1496 - accuracy: 0.8057 - val_loss: 0.1744 - val_accuracy: 0.7921\n",
      "Epoch 35/150\n",
      "48000/48000 [==============================] - 3s 66us/step - loss: 0.1486 - accuracy: 0.8059 - val_loss: 0.1801 - val_accuracy: 0.7883\n",
      "Epoch 36/150\n",
      "48000/48000 [==============================] - 3s 67us/step - loss: 0.1475 - accuracy: 0.8062 - val_loss: 0.1678 - val_accuracy: 0.7951\n",
      "Epoch 37/150\n",
      "48000/48000 [==============================] - 3s 67us/step - loss: 0.1464 - accuracy: 0.8063 - val_loss: 0.1701 - val_accuracy: 0.7929\n",
      "Epoch 38/150\n",
      "48000/48000 [==============================] - 3s 67us/step - loss: 0.1457 - accuracy: 0.8065 - val_loss: 0.1712 - val_accuracy: 0.7942\n",
      "Epoch 39/150\n",
      "48000/48000 [==============================] - 3s 66us/step - loss: 0.1447 - accuracy: 0.8067 - val_loss: 0.1678 - val_accuracy: 0.7951\n",
      "Epoch 40/150\n",
      "48000/48000 [==============================] - 3s 65us/step - loss: 0.1437 - accuracy: 0.8068 - val_loss: 0.1736 - val_accuracy: 0.7918\n",
      "Epoch 41/150\n",
      "48000/48000 [==============================] - 3s 66us/step - loss: 0.1427 - accuracy: 0.8070 - val_loss: 0.1693 - val_accuracy: 0.7939\n",
      "Epoch 42/150\n",
      "48000/48000 [==============================] - 3s 70us/step - loss: 0.1421 - accuracy: 0.8071 - val_loss: 0.1650 - val_accuracy: 0.7963\n",
      "Epoch 43/150\n",
      "48000/48000 [==============================] - 3s 68us/step - loss: 0.1413 - accuracy: 0.8073 - val_loss: 0.1590 - val_accuracy: 0.7989\n",
      "Epoch 44/150\n",
      "48000/48000 [==============================] - 3s 70us/step - loss: 0.1405 - accuracy: 0.8074 - val_loss: 0.1677 - val_accuracy: 0.7947\n",
      "Epoch 45/150\n",
      "48000/48000 [==============================] - 3s 70us/step - loss: 0.1399 - accuracy: 0.8075 - val_loss: 0.1561 - val_accuracy: 0.8011\n",
      "Epoch 46/150\n",
      "48000/48000 [==============================] - 3s 62us/step - loss: 0.1391 - accuracy: 0.8077 - val_loss: 0.1603 - val_accuracy: 0.7983\n",
      "Epoch 47/150\n",
      "48000/48000 [==============================] - 3s 62us/step - loss: 0.1386 - accuracy: 0.8078 - val_loss: 0.1717 - val_accuracy: 0.7933\n",
      "Epoch 48/150\n",
      "48000/48000 [==============================] - 3s 65us/step - loss: 0.1380 - accuracy: 0.8079 - val_loss: 0.1581 - val_accuracy: 0.7997\n",
      "Epoch 49/150\n",
      "48000/48000 [==============================] - 3s 62us/step - loss: 0.1375 - accuracy: 0.8079 - val_loss: 0.1754 - val_accuracy: 0.7921\n",
      "Epoch 50/150\n",
      "48000/48000 [==============================] - 3s 61us/step - loss: 0.1368 - accuracy: 0.8080 - val_loss: 0.1543 - val_accuracy: 0.8004\n",
      "Epoch 51/150\n",
      "48000/48000 [==============================] - 3s 62us/step - loss: 0.1363 - accuracy: 0.8081 - val_loss: 0.1646 - val_accuracy: 0.7960\n",
      "Epoch 52/150\n",
      "48000/48000 [==============================] - 3s 60us/step - loss: 0.1357 - accuracy: 0.8082 - val_loss: 0.1688 - val_accuracy: 0.7945\n",
      "Epoch 53/150\n",
      "48000/48000 [==============================] - 3s 60us/step - loss: 0.1353 - accuracy: 0.8083 - val_loss: 0.1626 - val_accuracy: 0.7973\n",
      "Epoch 54/150\n",
      "48000/48000 [==============================] - 3s 69us/step - loss: 0.1348 - accuracy: 0.8084 - val_loss: 0.1678 - val_accuracy: 0.7956\n",
      "Epoch 55/150\n",
      "48000/48000 [==============================] - 3s 72us/step - loss: 0.1341 - accuracy: 0.8085 - val_loss: 0.1537 - val_accuracy: 0.8012\n"
     ]
    },
    {
     "name": "stdout",
     "output_type": "stream",
     "text": [
      "Epoch 56/150\n",
      "48000/48000 [==============================] - 3s 65us/step - loss: 0.1337 - accuracy: 0.8086 - val_loss: 0.1553 - val_accuracy: 0.8010\n",
      "Epoch 57/150\n",
      "48000/48000 [==============================] - 3s 66us/step - loss: 0.1332 - accuracy: 0.8087 - val_loss: 0.1549 - val_accuracy: 0.7997\n",
      "Epoch 58/150\n",
      "48000/48000 [==============================] - 3s 64us/step - loss: 0.1327 - accuracy: 0.8087 - val_loss: 0.1617 - val_accuracy: 0.7981\n",
      "Epoch 59/150\n",
      "48000/48000 [==============================] - 3s 63us/step - loss: 0.1324 - accuracy: 0.8088 - val_loss: 0.1489 - val_accuracy: 0.8025\n",
      "Epoch 60/150\n",
      "48000/48000 [==============================] - 3s 64us/step - loss: 0.1319 - accuracy: 0.8088 - val_loss: 0.1536 - val_accuracy: 0.8018\n",
      "Epoch 61/150\n",
      "48000/48000 [==============================] - 3s 72us/step - loss: 0.1314 - accuracy: 0.8090 - val_loss: 0.1527 - val_accuracy: 0.8012\n",
      "Epoch 62/150\n",
      "48000/48000 [==============================] - 3s 70us/step - loss: 0.1311 - accuracy: 0.8090 - val_loss: 0.1495 - val_accuracy: 0.8026\n",
      "Epoch 63/150\n",
      "48000/48000 [==============================] - 3s 69us/step - loss: 0.1306 - accuracy: 0.8091 - val_loss: 0.1591 - val_accuracy: 0.7989\n",
      "Epoch 64/150\n",
      "48000/48000 [==============================] - 3s 71us/step - loss: 0.1304 - accuracy: 0.8091 - val_loss: 0.1490 - val_accuracy: 0.8023\n",
      "Epoch 65/150\n",
      "48000/48000 [==============================] - 3s 70us/step - loss: 0.1300 - accuracy: 0.8092 - val_loss: 0.1528 - val_accuracy: 0.8023\n",
      "Epoch 66/150\n",
      "48000/48000 [==============================] - 4s 74us/step - loss: 0.1298 - accuracy: 0.8092 - val_loss: 0.1579 - val_accuracy: 0.7994\n",
      "Epoch 67/150\n",
      "48000/48000 [==============================] - 4s 73us/step - loss: 0.1291 - accuracy: 0.8093 - val_loss: 0.1546 - val_accuracy: 0.8012\n",
      "Epoch 68/150\n",
      "48000/48000 [==============================] - 4s 81us/step - loss: 0.1289 - accuracy: 0.8093 - val_loss: 0.1462 - val_accuracy: 0.8033\n",
      "Epoch 69/150\n",
      "48000/48000 [==============================] - 3s 71us/step - loss: 0.1284 - accuracy: 0.8094 - val_loss: 0.1501 - val_accuracy: 0.8023\n",
      "Epoch 70/150\n",
      "48000/48000 [==============================] - 4s 82us/step - loss: 0.1282 - accuracy: 0.8094 - val_loss: 0.1652 - val_accuracy: 0.7975\n",
      "Epoch 71/150\n",
      "48000/48000 [==============================] - 4s 73us/step - loss: 0.1277 - accuracy: 0.8095 - val_loss: 0.1539 - val_accuracy: 0.8010\n",
      "Epoch 72/150\n",
      "48000/48000 [==============================] - 3s 71us/step - loss: 0.1275 - accuracy: 0.8095 - val_loss: 0.1545 - val_accuracy: 0.8016\n",
      "Epoch 73/150\n",
      "48000/48000 [==============================] - 4s 74us/step - loss: 0.1273 - accuracy: 0.8096 - val_loss: 0.1469 - val_accuracy: 0.8043\n",
      "Epoch 74/150\n",
      "48000/48000 [==============================] - 4s 74us/step - loss: 0.1268 - accuracy: 0.8097 - val_loss: 0.1448 - val_accuracy: 0.8048\n",
      "Epoch 75/150\n",
      "48000/48000 [==============================] - 4s 76us/step - loss: 0.1264 - accuracy: 0.8097 - val_loss: 0.1524 - val_accuracy: 0.8025\n",
      "Epoch 76/150\n",
      "48000/48000 [==============================] - 4s 77us/step - loss: 0.1260 - accuracy: 0.8098 - val_loss: 0.1592 - val_accuracy: 0.7995\n",
      "Epoch 77/150\n",
      "48000/48000 [==============================] - 4s 74us/step - loss: 0.1258 - accuracy: 0.8098 - val_loss: 0.1441 - val_accuracy: 0.8045\n",
      "Epoch 78/150\n",
      "48000/48000 [==============================] - 3s 73us/step - loss: 0.1256 - accuracy: 0.8098 - val_loss: 0.1452 - val_accuracy: 0.8038\n",
      "Epoch 79/150\n",
      "48000/48000 [==============================] - 3s 71us/step - loss: 0.1253 - accuracy: 0.8099 - val_loss: 0.1511 - val_accuracy: 0.8029\n",
      "Epoch 80/150\n",
      "48000/48000 [==============================] - 3s 71us/step - loss: 0.1250 - accuracy: 0.8099 - val_loss: 0.1416 - val_accuracy: 0.8063\n",
      "Epoch 81/150\n",
      "48000/48000 [==============================] - 3s 72us/step - loss: 0.1247 - accuracy: 0.8100 - val_loss: 0.1462 - val_accuracy: 0.8042\n",
      "Epoch 82/150\n",
      "48000/48000 [==============================] - 3s 72us/step - loss: 0.1244 - accuracy: 0.8100 - val_loss: 0.1525 - val_accuracy: 0.8015\n",
      "Epoch 83/150\n",
      "48000/48000 [==============================] - 3s 70us/step - loss: 0.1241 - accuracy: 0.8101 - val_loss: 0.1530 - val_accuracy: 0.8018\n",
      "Epoch 84/150\n",
      "48000/48000 [==============================] - 3s 70us/step - loss: 0.1238 - accuracy: 0.8101 - val_loss: 0.1488 - val_accuracy: 0.8035\n",
      "Epoch 85/150\n",
      "48000/48000 [==============================] - 3s 71us/step - loss: 0.1236 - accuracy: 0.8101 - val_loss: 0.1489 - val_accuracy: 0.8025\n",
      "Epoch 86/150\n",
      "48000/48000 [==============================] - 3s 71us/step - loss: 0.1231 - accuracy: 0.8102 - val_loss: 0.1497 - val_accuracy: 0.8019\n",
      "Epoch 87/150\n",
      "48000/48000 [==============================] - 3s 70us/step - loss: 0.1231 - accuracy: 0.8102 - val_loss: 0.1503 - val_accuracy: 0.8025\n",
      "Epoch 88/150\n",
      "48000/48000 [==============================] - 3s 71us/step - loss: 0.1228 - accuracy: 0.8102 - val_loss: 0.1464 - val_accuracy: 0.8038\n",
      "Epoch 89/150\n",
      "48000/48000 [==============================] - 3s 72us/step - loss: 0.1226 - accuracy: 0.8103 - val_loss: 0.1427 - val_accuracy: 0.8059\n",
      "Epoch 90/150\n",
      "48000/48000 [==============================] - 3s 72us/step - loss: 0.1223 - accuracy: 0.8103 - val_loss: 0.1474 - val_accuracy: 0.8034\n",
      "Epoch 91/150\n",
      "48000/48000 [==============================] - 3s 72us/step - loss: 0.1222 - accuracy: 0.8104 - val_loss: 0.1530 - val_accuracy: 0.8019\n",
      "Epoch 92/150\n",
      "48000/48000 [==============================] - 3s 71us/step - loss: 0.1218 - accuracy: 0.8104 - val_loss: 0.1431 - val_accuracy: 0.8049\n",
      "Epoch 93/150\n",
      "48000/48000 [==============================] - 3s 70us/step - loss: 0.1217 - accuracy: 0.8104 - val_loss: 0.1508 - val_accuracy: 0.8028\n",
      "Epoch 94/150\n",
      "48000/48000 [==============================] - 3s 70us/step - loss: 0.1213 - accuracy: 0.8105 - val_loss: 0.1406 - val_accuracy: 0.8063\n",
      "Epoch 95/150\n",
      "48000/48000 [==============================] - 3s 69us/step - loss: 0.1212 - accuracy: 0.8105 - val_loss: 0.1423 - val_accuracy: 0.8064\n",
      "Epoch 96/150\n",
      "48000/48000 [==============================] - 3s 70us/step - loss: 0.1210 - accuracy: 0.8105 - val_loss: 0.1440 - val_accuracy: 0.8053\n",
      "Epoch 97/150\n",
      "48000/48000 [==============================] - 3s 72us/step - loss: 0.1208 - accuracy: 0.8106 - val_loss: 0.1488 - val_accuracy: 0.8031\n",
      "Epoch 98/150\n",
      "48000/48000 [==============================] - 3s 70us/step - loss: 0.1206 - accuracy: 0.8106 - val_loss: 0.1437 - val_accuracy: 0.8060\n",
      "Epoch 99/150\n",
      "48000/48000 [==============================] - 3s 72us/step - loss: 0.1203 - accuracy: 0.8106 - val_loss: 0.1459 - val_accuracy: 0.8056\n",
      "Epoch 100/150\n",
      "48000/48000 [==============================] - 3s 72us/step - loss: 0.1202 - accuracy: 0.8107 - val_loss: 0.1520 - val_accuracy: 0.8032\n",
      "Epoch 101/150\n",
      "48000/48000 [==============================] - 3s 70us/step - loss: 0.1201 - accuracy: 0.8107 - val_loss: 0.1568 - val_accuracy: 0.8018\n",
      "Epoch 102/150\n",
      "48000/48000 [==============================] - 3s 71us/step - loss: 0.1198 - accuracy: 0.8107 - val_loss: 0.1478 - val_accuracy: 0.8037\n",
      "Epoch 103/150\n",
      "48000/48000 [==============================] - 3s 69us/step - loss: 0.1197 - accuracy: 0.8107 - val_loss: 0.1511 - val_accuracy: 0.8024\n",
      "Epoch 104/150\n",
      "48000/48000 [==============================] - 3s 67us/step - loss: 0.1196 - accuracy: 0.8107 - val_loss: 0.1450 - val_accuracy: 0.8055\n",
      "Epoch 105/150\n",
      "48000/48000 [==============================] - 3s 65us/step - loss: 0.1191 - accuracy: 0.8108 - val_loss: 0.1467 - val_accuracy: 0.8032\n",
      "Epoch 106/150\n",
      "48000/48000 [==============================] - 3s 65us/step - loss: 0.1190 - accuracy: 0.8108 - val_loss: 0.1403 - val_accuracy: 0.8066\n",
      "Epoch 107/150\n",
      "48000/48000 [==============================] - 3s 68us/step - loss: 0.1189 - accuracy: 0.8108 - val_loss: 0.1437 - val_accuracy: 0.8048\n",
      "Epoch 108/150\n",
      "48000/48000 [==============================] - 3s 69us/step - loss: 0.1187 - accuracy: 0.8109 - val_loss: 0.1492 - val_accuracy: 0.8033\n",
      "Epoch 109/150\n",
      "48000/48000 [==============================] - 3s 67us/step - loss: 0.1187 - accuracy: 0.8109 - val_loss: 0.1355 - val_accuracy: 0.8077\n",
      "Epoch 110/150\n"
     ]
    },
    {
     "name": "stdout",
     "output_type": "stream",
     "text": [
      "48000/48000 [==============================] - 3s 72us/step - loss: 0.1185 - accuracy: 0.8109 - val_loss: 0.1399 - val_accuracy: 0.8061\n",
      "Epoch 111/150\n",
      "48000/48000 [==============================] - 3s 67us/step - loss: 0.1183 - accuracy: 0.8109 - val_loss: 0.1449 - val_accuracy: 0.8051\n",
      "Epoch 112/150\n",
      "48000/48000 [==============================] - 3s 69us/step - loss: 0.1182 - accuracy: 0.8109 - val_loss: 0.1430 - val_accuracy: 0.8066\n",
      "Epoch 113/150\n",
      "48000/48000 [==============================] - 3s 67us/step - loss: 0.1179 - accuracy: 0.8110 - val_loss: 0.1376 - val_accuracy: 0.8078\n",
      "Epoch 114/150\n",
      "48000/48000 [==============================] - 3s 68us/step - loss: 0.1178 - accuracy: 0.8110 - val_loss: 0.1451 - val_accuracy: 0.8060\n",
      "Epoch 115/150\n",
      "48000/48000 [==============================] - 3s 68us/step - loss: 0.1177 - accuracy: 0.8110 - val_loss: 0.1416 - val_accuracy: 0.8062\n",
      "Epoch 116/150\n",
      "48000/48000 [==============================] - 4s 74us/step - loss: 0.1176 - accuracy: 0.8110 - val_loss: 0.1400 - val_accuracy: 0.8073\n",
      "Epoch 117/150\n",
      "48000/48000 [==============================] - 3s 72us/step - loss: 0.1173 - accuracy: 0.8111 - val_loss: 0.1452 - val_accuracy: 0.8060\n",
      "Epoch 118/150\n",
      "48000/48000 [==============================] - 3s 67us/step - loss: 0.1173 - accuracy: 0.8111 - val_loss: 0.1442 - val_accuracy: 0.8047\n",
      "Epoch 119/150\n",
      "48000/48000 [==============================] - 3s 65us/step - loss: 0.1171 - accuracy: 0.8111 - val_loss: 0.1394 - val_accuracy: 0.8077\n",
      "Epoch 120/150\n",
      "48000/48000 [==============================] - 3s 63us/step - loss: 0.1170 - accuracy: 0.8111 - val_loss: 0.1361 - val_accuracy: 0.8078\n",
      "Epoch 121/150\n",
      "48000/48000 [==============================] - 3s 65us/step - loss: 0.1166 - accuracy: 0.8112 - val_loss: 0.1390 - val_accuracy: 0.8072\n",
      "Epoch 122/150\n",
      "48000/48000 [==============================] - 3s 67us/step - loss: 0.1168 - accuracy: 0.8112 - val_loss: 0.1445 - val_accuracy: 0.8052\n",
      "Epoch 123/150\n",
      "48000/48000 [==============================] - 3s 71us/step - loss: 0.1164 - accuracy: 0.8112 - val_loss: 0.1365 - val_accuracy: 0.8072\n",
      "Epoch 124/150\n",
      "48000/48000 [==============================] - 3s 67us/step - loss: 0.1165 - accuracy: 0.8112 - val_loss: 0.1358 - val_accuracy: 0.8070\n",
      "Epoch 125/150\n",
      "48000/48000 [==============================] - 3s 66us/step - loss: 0.1162 - accuracy: 0.8112 - val_loss: 0.1393 - val_accuracy: 0.8063\n",
      "Epoch 126/150\n",
      "48000/48000 [==============================] - 3s 72us/step - loss: 0.1163 - accuracy: 0.8112 - val_loss: 0.1367 - val_accuracy: 0.8083\n",
      "Epoch 127/150\n",
      "48000/48000 [==============================] - 3s 68us/step - loss: 0.1161 - accuracy: 0.8112 - val_loss: 0.1409 - val_accuracy: 0.8063\n",
      "Epoch 128/150\n",
      "48000/48000 [==============================] - 3s 69us/step - loss: 0.1160 - accuracy: 0.8112 - val_loss: 0.1394 - val_accuracy: 0.8080\n",
      "Epoch 129/150\n",
      "48000/48000 [==============================] - 3s 68us/step - loss: 0.1158 - accuracy: 0.8113 - val_loss: 0.1398 - val_accuracy: 0.8074\n",
      "Epoch 130/150\n",
      "48000/48000 [==============================] - 3s 66us/step - loss: 0.1157 - accuracy: 0.8113 - val_loss: 0.1407 - val_accuracy: 0.8062\n",
      "Epoch 131/150\n",
      "48000/48000 [==============================] - 4s 81us/step - loss: 0.1156 - accuracy: 0.8113 - val_loss: 0.1425 - val_accuracy: 0.8058\n",
      "Epoch 132/150\n",
      "48000/48000 [==============================] - 4s 78us/step - loss: 0.1154 - accuracy: 0.8113 - val_loss: 0.1350 - val_accuracy: 0.8075\n",
      "Epoch 133/150\n",
      "48000/48000 [==============================] - 4s 79us/step - loss: 0.1155 - accuracy: 0.8113 - val_loss: 0.1397 - val_accuracy: 0.8066\n",
      "Epoch 134/150\n",
      "48000/48000 [==============================] - 4s 81us/step - loss: 0.1154 - accuracy: 0.8113 - val_loss: 0.1375 - val_accuracy: 0.8081\n",
      "Epoch 135/150\n",
      "48000/48000 [==============================] - 3s 68us/step - loss: 0.1151 - accuracy: 0.8114 - val_loss: 0.1367 - val_accuracy: 0.8069\n",
      "Epoch 136/150\n",
      "48000/48000 [==============================] - 3s 66us/step - loss: 0.1152 - accuracy: 0.8114 - val_loss: 0.1352 - val_accuracy: 0.8084\n",
      "Epoch 137/150\n",
      "48000/48000 [==============================] - 3s 67us/step - loss: 0.1149 - accuracy: 0.8114 - val_loss: 0.1412 - val_accuracy: 0.8057\n",
      "Epoch 138/150\n",
      "48000/48000 [==============================] - 3s 69us/step - loss: 0.1149 - accuracy: 0.8114 - val_loss: 0.1356 - val_accuracy: 0.8079\n",
      "Epoch 139/150\n",
      "48000/48000 [==============================] - 3s 67us/step - loss: 0.1148 - accuracy: 0.8114 - val_loss: 0.1424 - val_accuracy: 0.8057\n",
      "Epoch 140/150\n",
      "48000/48000 [==============================] - 3s 68us/step - loss: 0.1146 - accuracy: 0.8115 - val_loss: 0.1395 - val_accuracy: 0.8061\n",
      "Epoch 141/150\n",
      "48000/48000 [==============================] - 3s 67us/step - loss: 0.1145 - accuracy: 0.8115 - val_loss: 0.1362 - val_accuracy: 0.8080\n",
      "Epoch 142/150\n",
      "48000/48000 [==============================] - 3s 68us/step - loss: 0.1146 - accuracy: 0.8114 - val_loss: 0.1441 - val_accuracy: 0.8057\n",
      "Epoch 143/150\n",
      "48000/48000 [==============================] - 3s 68us/step - loss: 0.1142 - accuracy: 0.8115 - val_loss: 0.1411 - val_accuracy: 0.8053\n",
      "Epoch 144/150\n",
      "48000/48000 [==============================] - 3s 67us/step - loss: 0.1142 - accuracy: 0.8115 - val_loss: 0.1367 - val_accuracy: 0.8086\n",
      "Epoch 145/150\n",
      "48000/48000 [==============================] - 3s 67us/step - loss: 0.1142 - accuracy: 0.8115 - val_loss: 0.1347 - val_accuracy: 0.8085\n",
      "Epoch 146/150\n",
      "48000/48000 [==============================] - 3s 67us/step - loss: 0.1140 - accuracy: 0.8115 - val_loss: 0.1334 - val_accuracy: 0.8093\n",
      "Epoch 147/150\n",
      "48000/48000 [==============================] - 3s 71us/step - loss: 0.1139 - accuracy: 0.8116 - val_loss: 0.1379 - val_accuracy: 0.8076\n",
      "Epoch 148/150\n",
      "48000/48000 [==============================] - 3s 67us/step - loss: 0.1137 - accuracy: 0.8116 - val_loss: 0.1387 - val_accuracy: 0.8071\n",
      "Epoch 149/150\n",
      "48000/48000 [==============================] - 3s 69us/step - loss: 0.1137 - accuracy: 0.8116 - val_loss: 0.1339 - val_accuracy: 0.8092\n",
      "Epoch 150/150\n",
      "48000/48000 [==============================] - 3s 67us/step - loss: 0.1137 - accuracy: 0.8116 - val_loss: 0.1413 - val_accuracy: 0.8056\n"
     ]
    }
   ],
   "source": [
    "history = autoencoder.fit(x_train_noisy, x_train, epochs=150, batch_size = 256, shuffle = True,\n",
    "              validation_data = (x_val_noisy,x_val))"
   ]
  },
  {
   "cell_type": "code",
   "execution_count": 13,
   "metadata": {},
   "outputs": [
    {
     "name": "stdout",
     "output_type": "stream",
     "text": [
      "dict_keys(['val_loss', 'val_accuracy', 'loss', 'accuracy'])\n"
     ]
    },
    {
     "data": {
      "image/png": "[encoded data removed]",
      "text/plain": [
       "<Figure size 432x288 with 1 Axes>"
      ]
     },
     "metadata": {
      "needs_background": "light"
     },
     "output_type": "display_data"
    },
    {
     "data": {
      "image/png": "[encoded data removed]",
      "text/plain": [
       "<Figure size 432x288 with 1 Axes>"
      ]
     },
     "metadata": {
      "needs_background": "light"
     },
     "output_type": "display_data"
    }
   ],
   "source": [
    "# Plot training loss and validation split loss over the epochs\n",
    "\n",
    "print(history.history.keys())\n",
    "# summarize history for accuracy\n",
    "plt.plot(history.history['accuracy'])\n",
    "plt.plot(history.history['val_accuracy'])\n",
    "plt.title('model accuracy')\n",
    "plt.ylabel('accuracy')\n",
    "plt.xlabel('epoch')\n",
    "plt.legend(['train', 'test'], loc='lower right')\n",
    "plt.savefig('denoisingae_model_accuracy.png')\n",
    "plt.show()\n",
    "\n",
    "\n",
    "# summarize history for loss\n",
    "plt.plot(history.history['loss'])\n",
    "plt.plot(history.history['val_loss'])\n",
    "plt.title('model loss')\n",
    "plt.ylabel('loss')\n",
    "plt.xlabel('epoch')\n",
    "plt.legend(['train', 'test'], loc='upper right')\n",
    "plt.savefig('denoisingae_model_loss.png')\n",
    "plt.show()"
   ]
  },
  {
   "cell_type": "code",
   "execution_count": 14,
   "metadata": {},
   "outputs": [],
   "source": [
    "reconstructed_imgs = autoencoder.predict(x_test_noisy)"
   ]
  },
  {
   "cell_type": "code",
   "execution_count": 15,
   "metadata": {},
   "outputs": [
    {
     "name": "stdout",
     "output_type": "stream",
     "text": [
      "10000/10000 [==============================] - 0s 47us/step\n",
      "Loss: 0.11697267587184906\n",
      "Accuracy 80.83341717720032\n"
     ]
    }
   ],
   "source": [
    "evaluation = autoencoder.evaluate(x_test_noisy, x_test)\n",
    "\n",
    "print(\"Loss:\",evaluation[0])\n",
    "print(\"Accuracy\",evaluation[1]*100)"
   ]
  },
  {
   "cell_type": "code",
   "execution_count": null,
   "metadata": {},
   "outputs": [],
   "source": []
  },
  {
   "cell_type": "code",
   "execution_count": 16,
   "metadata": {},
   "outputs": [
    {
     "data": {
      "image/png": "[encoded data removed]",
      "text/plain": [
       "<Figure size 1440x288 with 20 Axes>"
      ]
     },
     "metadata": {
      "needs_background": "light"
     },
     "output_type": "display_data"
    }
   ],
   "source": [
    "# Ploting the original input vs reconstructed output\n",
    "n = 10\n",
    "plt.figure(figsize =(20,4))\n",
    "\n",
    "for i in range(n):\n",
    "    ax = plt.subplot(2, n, i+1)\n",
    "    plt.imshow(x_test_noisy[i].reshape(28,28))\n",
    "    plt.gray()\n",
    "    ax.get_xaxis().set_visible(False)\n",
    "    ax.get_yaxis().set_visible(False)\n",
    "    \n",
    "    ax = plt.subplot(2,n, i+1+n)\n",
    "    plt.imshow(reconstructed_imgs[i].reshape(28,28))\n",
    "    plt.gray()\n",
    "    ax.get_xaxis().set_visible(False)\n",
    "    ax.get_yaxis().set_visible(False)\n",
    "plt.savefig('Denoisingae_model_output.png')\n",
    "plt.show()"
   ]
  },
  {
   "cell_type": "code",
   "execution_count": null,
   "metadata": {},
   "outputs": [],
   "source": []
  },
  {
   "cell_type": "code",
   "execution_count": null,
   "metadata": {},
   "outputs": [],
   "source": []
  }
 ],
 "metadata": {
  "kernelspec": {
   "display_name": "Python 3",
   "language": "python",
   "name": "python3"
  },
  "language_info": {
   "codemirror_mode": {
    "name": "ipython",
    "version": 3
   },
   "file_extension": ".py",
   "mimetype": "text/x-python",
   "name": "python",
   "nbconvert_exporter": "python",
   "pygments_lexer": "ipython3",
   "version": "3.7.7"
  }
 },
 "nbformat": 4,
 "nbformat_minor": 4
}
