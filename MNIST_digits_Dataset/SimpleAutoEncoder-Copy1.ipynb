{
 "cells": [
  {
   "cell_type": "code",
   "execution_count": 23,
   "metadata": {},
   "outputs": [],
   "source": [
    "#importing the necessary libraries\n",
    "from keras.models import Model\n",
    "from keras.layers import Input, Dense\n",
    "from keras.callbacks import History\n",
    "history = History()\n",
    "import numpy as np\n",
    "import pandas as pd\n",
    "import matplotlib.pyplot as plt\n",
    "from sklearn.model_selection import train_test_split"
   ]
  },
  {
   "cell_type": "markdown",
   "metadata": {},
   "source": [
    "# Data Acquisition"
   ]
  },
  {
   "cell_type": "code",
   "execution_count": 24,
   "metadata": {},
   "outputs": [],
   "source": [
    "# Data Acquisition\n",
    "\n",
    "x_train=pd.read_csv(\"mnist_train.csv\")\n",
    "x_test=pd.read_csv(\"mnist_test.csv\")"
   ]
  },
  {
   "cell_type": "code",
   "execution_count": 25,
   "metadata": {},
   "outputs": [
    {
     "data": {
      "text/html": [
       "<div>\n",
       "<style scoped>\n",
       "    .dataframe tbody tr th:only-of-type {\n",
       "        vertical-align: middle;\n",
       "    }\n",
       "\n",
       "    .dataframe tbody tr th {\n",
       "        vertical-align: top;\n",
       "    }\n",
       "\n",
       "    .dataframe thead th {\n",
       "        text-align: right;\n",
       "    }\n",
       "</style>\n",
       "<table border=\"1\" class=\"dataframe\">\n",
       "  <thead>\n",
       "    <tr style=\"text-align: right;\">\n",
       "      <th></th>\n",
       "      <th>label</th>\n",
       "      <th>1x1</th>\n",
       "      <th>1x2</th>\n",
       "      <th>1x3</th>\n",
       "      <th>1x4</th>\n",
       "      <th>1x5</th>\n",
       "      <th>1x6</th>\n",
       "      <th>1x7</th>\n",
       "      <th>1x8</th>\n",
       "      <th>1x9</th>\n",
       "      <th>...</th>\n",
       "      <th>28x19</th>\n",
       "      <th>28x20</th>\n",
       "      <th>28x21</th>\n",
       "      <th>28x22</th>\n",
       "      <th>28x23</th>\n",
       "      <th>28x24</th>\n",
       "      <th>28x25</th>\n",
       "      <th>28x26</th>\n",
       "      <th>28x27</th>\n",
       "      <th>28x28</th>\n",
       "    </tr>\n",
       "  </thead>\n",
       "  <tbody>\n",
       "    <tr>\n",
       "      <th>0</th>\n",
       "      <td>5</td>\n",
       "      <td>0</td>\n",
       "      <td>0</td>\n",
       "      <td>0</td>\n",
       "      <td>0</td>\n",
       "      <td>0</td>\n",
       "      <td>0</td>\n",
       "      <td>0</td>\n",
       "      <td>0</td>\n",
       "      <td>0</td>\n",
       "      <td>...</td>\n",
       "      <td>0</td>\n",
       "      <td>0</td>\n",
       "      <td>0</td>\n",
       "      <td>0</td>\n",
       "      <td>0</td>\n",
       "      <td>0</td>\n",
       "      <td>0</td>\n",
       "      <td>0</td>\n",
       "      <td>0</td>\n",
       "      <td>0</td>\n",
       "    </tr>\n",
       "    <tr>\n",
       "      <th>1</th>\n",
       "      <td>0</td>\n",
       "      <td>0</td>\n",
       "      <td>0</td>\n",
       "      <td>0</td>\n",
       "      <td>0</td>\n",
       "      <td>0</td>\n",
       "      <td>0</td>\n",
       "      <td>0</td>\n",
       "      <td>0</td>\n",
       "      <td>0</td>\n",
       "      <td>...</td>\n",
       "      <td>0</td>\n",
       "      <td>0</td>\n",
       "      <td>0</td>\n",
       "      <td>0</td>\n",
       "      <td>0</td>\n",
       "      <td>0</td>\n",
       "      <td>0</td>\n",
       "      <td>0</td>\n",
       "      <td>0</td>\n",
       "      <td>0</td>\n",
       "    </tr>\n",
       "    <tr>\n",
       "      <th>2</th>\n",
       "      <td>4</td>\n",
       "      <td>0</td>\n",
       "      <td>0</td>\n",
       "      <td>0</td>\n",
       "      <td>0</td>\n",
       "      <td>0</td>\n",
       "      <td>0</td>\n",
       "      <td>0</td>\n",
       "      <td>0</td>\n",
       "      <td>0</td>\n",
       "      <td>...</td>\n",
       "      <td>0</td>\n",
       "      <td>0</td>\n",
       "      <td>0</td>\n",
       "      <td>0</td>\n",
       "      <td>0</td>\n",
       "      <td>0</td>\n",
       "      <td>0</td>\n",
       "      <td>0</td>\n",
       "      <td>0</td>\n",
       "      <td>0</td>\n",
       "    </tr>\n",
       "    <tr>\n",
       "      <th>3</th>\n",
       "      <td>1</td>\n",
       "      <td>0</td>\n",
       "      <td>0</td>\n",
       "      <td>0</td>\n",
       "      <td>0</td>\n",
       "      <td>0</td>\n",
       "      <td>0</td>\n",
       "      <td>0</td>\n",
       "      <td>0</td>\n",
       "      <td>0</td>\n",
       "      <td>...</td>\n",
       "      <td>0</td>\n",
       "      <td>0</td>\n",
       "      <td>0</td>\n",
       "      <td>0</td>\n",
       "      <td>0</td>\n",
       "      <td>0</td>\n",
       "      <td>0</td>\n",
       "      <td>0</td>\n",
       "      <td>0</td>\n",
       "      <td>0</td>\n",
       "    </tr>\n",
       "    <tr>\n",
       "      <th>4</th>\n",
       "      <td>9</td>\n",
       "      <td>0</td>\n",
       "      <td>0</td>\n",
       "      <td>0</td>\n",
       "      <td>0</td>\n",
       "      <td>0</td>\n",
       "      <td>0</td>\n",
       "      <td>0</td>\n",
       "      <td>0</td>\n",
       "      <td>0</td>\n",
       "      <td>...</td>\n",
       "      <td>0</td>\n",
       "      <td>0</td>\n",
       "      <td>0</td>\n",
       "      <td>0</td>\n",
       "      <td>0</td>\n",
       "      <td>0</td>\n",
       "      <td>0</td>\n",
       "      <td>0</td>\n",
       "      <td>0</td>\n",
       "      <td>0</td>\n",
       "    </tr>\n",
       "  </tbody>\n",
       "</table>\n",
       "<p>5 rows × 785 columns</p>\n",
       "</div>"
      ],
      "text/plain": [
       "   label  1x1  1x2  1x3  1x4  1x5  1x6  1x7  1x8  1x9  ...  28x19  28x20  \\\n",
       "0      5    0    0    0    0    0    0    0    0    0  ...      0      0   \n",
       "1      0    0    0    0    0    0    0    0    0    0  ...      0      0   \n",
       "2      4    0    0    0    0    0    0    0    0    0  ...      0      0   \n",
       "3      1    0    0    0    0    0    0    0    0    0  ...      0      0   \n",
       "4      9    0    0    0    0    0    0    0    0    0  ...      0      0   \n",
       "\n",
       "   28x21  28x22  28x23  28x24  28x25  28x26  28x27  28x28  \n",
       "0      0      0      0      0      0      0      0      0  \n",
       "1      0      0      0      0      0      0      0      0  \n",
       "2      0      0      0      0      0      0      0      0  \n",
       "3      0      0      0      0      0      0      0      0  \n",
       "4      0      0      0      0      0      0      0      0  \n",
       "\n",
       "[5 rows x 785 columns]"
      ]
     },
     "execution_count": 25,
     "metadata": {},
     "output_type": "execute_result"
    }
   ],
   "source": [
    "# Data Visulization\n",
    "x_train.head()"
   ]
  },
  {
   "cell_type": "code",
   "execution_count": null,
   "metadata": {},
   "outputs": [],
   "source": []
  },
  {
   "cell_type": "code",
   "execution_count": 4,
   "metadata": {},
   "outputs": [],
   "source": [
    "# Data Preprocessing\n",
    "\n",
    "y_train = x_train.iloc[:,1].values\n",
    "x_train = x_train.drop([\"label\"],axis=1)\n",
    "y_test = x_test.iloc[:,1].values\n",
    "x_test = x_test.drop([\"label\"],axis=1)"
   ]
  },
  {
   "cell_type": "code",
   "execution_count": 5,
   "metadata": {},
   "outputs": [],
   "source": [
    "x_train = x_train.to_numpy()\n",
    "x_test = x_test.to_numpy()\n",
    "#Normalization\n",
    "x_train = x_train.astype('float32')/255\n",
    "x_test = x_test.astype('float32')/255"
   ]
  },
  {
   "cell_type": "code",
   "execution_count": 6,
   "metadata": {},
   "outputs": [],
   "source": [
    "#spliting the train dataset into train and validation set\n",
    "x_train,x_val,y_train,y_val= train_test_split(x_train,y_train,test_size = 0.2, random_state = 0)"
   ]
  },
  {
   "cell_type": "code",
   "execution_count": 7,
   "metadata": {},
   "outputs": [
    {
     "name": "stdout",
     "output_type": "stream",
     "text": [
      "x_train shape = (48000, 784)\n",
      "x_test shape = (10000, 784)\n",
      "x_val shape = (12000, 784)\n"
     ]
    }
   ],
   "source": [
    "print(f'x_train shape = {x_train.shape}')\n",
    "print(f'x_test shape = {x_test.shape}')\n",
    "print(f'x_val shape = {x_val.shape}')"
   ]
  },
  {
   "cell_type": "code",
   "execution_count": 19,
   "metadata": {},
   "outputs": [
    {
     "data": {
      "image/png": "[encoded data removed]",
      "text/plain": [
       "<Figure size 1440x288 with 10 Axes>"
      ]
     },
     "metadata": {
      "needs_background": "light"
     },
     "output_type": "display_data"
    }
   ],
   "source": [
    "#Data Visualizaion\n",
    "n = 10\n",
    "plt.figure(figsize =(20,4))\n",
    "\n",
    "for i in range(n):\n",
    "    ax = plt.subplot(1, n, i+1)\n",
    "    plt.imshow(x_train[i].reshape(28,28))\n",
    "    plt.gray()\n",
    "plt.savefig('mnist.png')\n",
    "plt.show()"
   ]
  },
  {
   "cell_type": "markdown",
   "metadata": {},
   "source": [
    "# Model"
   ]
  },
  {
   "cell_type": "code",
   "execution_count": 9,
   "metadata": {},
   "outputs": [],
   "source": [
    "#Builidg the simple auto encoder model\n",
    "encoding_dim = 32\n",
    "input_img = Input(shape=(784,))\n",
    "encoded = Dense(encoding_dim, activation='relu')(input_img)\n",
    "decoded = Dense(784, activation='sigmoid')(encoded)\n",
    "\n",
    "autoencoder = Model(input_img, decoded)\n",
    "\n",
    "encoder = Model(input_img, encoded)"
   ]
  },
  {
   "cell_type": "code",
   "execution_count": 10,
   "metadata": {},
   "outputs": [
    {
     "name": "stdout",
     "output_type": "stream",
     "text": [
      "Model: \"model_1\"\n",
      "_________________________________________________________________\n",
      "Layer (type)                 Output Shape              Param #   \n",
      "=================================================================\n",
      "input_1 (InputLayer)         (None, 784)               0         \n",
      "_________________________________________________________________\n",
      "dense_1 (Dense)              (None, 32)                25120     \n",
      "_________________________________________________________________\n",
      "dense_2 (Dense)              (None, 784)               25872     \n",
      "=================================================================\n",
      "Total params: 50,992\n",
      "Trainable params: 50,992\n",
      "Non-trainable params: 0\n",
      "_________________________________________________________________\n"
     ]
    }
   ],
   "source": [
    "#model compilation and summary\n",
    "autoencoder.compile(optimizer='adadelta', loss = 'binary_crossentropy', metrics = ['accuracy'])\n",
    "autoencoder.summary()"
   ]
  },
  {
   "cell_type": "markdown",
   "metadata": {},
   "source": [
    "# Fit Data"
   ]
  },
  {
   "cell_type": "code",
   "execution_count": 11,
   "metadata": {},
   "outputs": [
    {
     "name": "stdout",
     "output_type": "stream",
     "text": [
      "Train on 48000 samples, validate on 12000 samples\n",
      "Epoch 1/100\n",
      "48000/48000 [==============================] - 3s 61us/step - loss: 0.3863 - accuracy: 0.7367 - val_loss: 0.2751 - val_accuracy: 0.7948\n",
      "Epoch 2/100\n",
      "48000/48000 [==============================] - 2s 48us/step - loss: 0.2691 - accuracy: 0.7964 - val_loss: 0.2628 - val_accuracy: 0.7970\n",
      "Epoch 3/100\n",
      "48000/48000 [==============================] - 2s 49us/step - loss: 0.2544 - accuracy: 0.7978 - val_loss: 0.2449 - val_accuracy: 0.7969\n",
      "Epoch 4/100\n",
      "48000/48000 [==============================] - 2s 52us/step - loss: 0.2359 - accuracy: 0.7973 - val_loss: 0.2274 - val_accuracy: 0.7975\n",
      "Epoch 5/100\n",
      "48000/48000 [==============================] - 2s 49us/step - loss: 0.2200 - accuracy: 0.7976 - val_loss: 0.2134 - val_accuracy: 0.7964\n",
      "Epoch 6/100\n",
      "48000/48000 [==============================] - 2s 48us/step - loss: 0.2076 - accuracy: 0.7983 - val_loss: 0.2026 - val_accuracy: 0.7983\n",
      "Epoch 7/100\n",
      "48000/48000 [==============================] - 2s 49us/step - loss: 0.1982 - accuracy: 0.7994 - val_loss: 0.1945 - val_accuracy: 0.7997\n",
      "Epoch 8/100\n",
      "48000/48000 [==============================] - 2s 51us/step - loss: 0.1908 - accuracy: 0.8004 - val_loss: 0.1878 - val_accuracy: 0.8006\n",
      "Epoch 9/100\n",
      "48000/48000 [==============================] - 2s 50us/step - loss: 0.1847 - accuracy: 0.8012 - val_loss: 0.1822 - val_accuracy: 0.8014\n",
      "Epoch 10/100\n",
      "48000/48000 [==============================] - 3s 53us/step - loss: 0.1794 - accuracy: 0.8021 - val_loss: 0.1774 - val_accuracy: 0.8017\n",
      "Epoch 11/100\n",
      "48000/48000 [==============================] - 3s 53us/step - loss: 0.1749 - accuracy: 0.8028 - val_loss: 0.1731 - val_accuracy: 0.8025\n",
      "Epoch 12/100\n",
      "48000/48000 [==============================] - 2s 51us/step - loss: 0.1708 - accuracy: 0.8035 - val_loss: 0.1693 - val_accuracy: 0.8036\n",
      "Epoch 13/100\n",
      "48000/48000 [==============================] - 2s 50us/step - loss: 0.1671 - accuracy: 0.8041 - val_loss: 0.1658 - val_accuracy: 0.8039\n",
      "Epoch 14/100\n",
      "48000/48000 [==============================] - 2s 49us/step - loss: 0.1637 - accuracy: 0.8047 - val_loss: 0.1625 - val_accuracy: 0.8048\n",
      "Epoch 15/100\n",
      "48000/48000 [==============================] - 2s 49us/step - loss: 0.1605 - accuracy: 0.8053 - val_loss: 0.1594 - val_accuracy: 0.8051\n",
      "Epoch 16/100\n",
      "48000/48000 [==============================] - 2s 51us/step - loss: 0.1575 - accuracy: 0.8058 - val_loss: 0.1564 - val_accuracy: 0.8056\n",
      "Epoch 17/100\n",
      "48000/48000 [==============================] - 2s 52us/step - loss: 0.1546 - accuracy: 0.8063 - val_loss: 0.1536 - val_accuracy: 0.8062\n",
      "Epoch 18/100\n",
      "48000/48000 [==============================] - 2s 48us/step - loss: 0.1519 - accuracy: 0.8068 - val_loss: 0.1509 - val_accuracy: 0.8068\n",
      "Epoch 19/100\n",
      "48000/48000 [==============================] - 3s 53us/step - loss: 0.1493 - accuracy: 0.8073 - val_loss: 0.1484 - val_accuracy: 0.8071\n",
      "Epoch 20/100\n",
      "48000/48000 [==============================] - 2s 51us/step - loss: 0.1468 - accuracy: 0.8077 - val_loss: 0.1461 - val_accuracy: 0.8078\n",
      "Epoch 21/100\n",
      "48000/48000 [==============================] - 2s 48us/step - loss: 0.1445 - accuracy: 0.8081 - val_loss: 0.1438 - val_accuracy: 0.8077\n",
      "Epoch 22/100\n",
      "48000/48000 [==============================] - 2s 50us/step - loss: 0.1423 - accuracy: 0.8084 - val_loss: 0.1417 - val_accuracy: 0.8084\n",
      "Epoch 23/100\n",
      "48000/48000 [==============================] - 2s 48us/step - loss: 0.1403 - accuracy: 0.8087 - val_loss: 0.1397 - val_accuracy: 0.8088\n",
      "Epoch 24/100\n",
      "48000/48000 [==============================] - 2s 52us/step - loss: 0.1383 - accuracy: 0.8091 - val_loss: 0.1378 - val_accuracy: 0.8087\n",
      "Epoch 25/100\n",
      "48000/48000 [==============================] - 3s 55us/step - loss: 0.1364 - accuracy: 0.8094 - val_loss: 0.1359 - val_accuracy: 0.8092\n",
      "Epoch 26/100\n",
      "48000/48000 [==============================] - 3s 54us/step - loss: 0.1346 - accuracy: 0.8096 - val_loss: 0.1342 - val_accuracy: 0.8093\n",
      "Epoch 27/100\n",
      "48000/48000 [==============================] - 2s 50us/step - loss: 0.1329 - accuracy: 0.8099 - val_loss: 0.1325 - val_accuracy: 0.8097\n",
      "Epoch 28/100\n",
      "48000/48000 [==============================] - 2s 50us/step - loss: 0.1313 - accuracy: 0.8102 - val_loss: 0.1308 - val_accuracy: 0.8099\n",
      "Epoch 29/100\n",
      "48000/48000 [==============================] - 2s 51us/step - loss: 0.1297 - accuracy: 0.8104 - val_loss: 0.1293 - val_accuracy: 0.8100\n",
      "Epoch 30/100\n",
      "48000/48000 [==============================] - 2s 50us/step - loss: 0.1281 - accuracy: 0.8106 - val_loss: 0.1278 - val_accuracy: 0.8105\n",
      "Epoch 31/100\n",
      "48000/48000 [==============================] - 2s 52us/step - loss: 0.1266 - accuracy: 0.8109 - val_loss: 0.1263 - val_accuracy: 0.8105\n",
      "Epoch 32/100\n",
      "48000/48000 [==============================] - 3s 53us/step - loss: 0.1252 - accuracy: 0.8111 - val_loss: 0.1249 - val_accuracy: 0.8106\n",
      "Epoch 33/100\n",
      "48000/48000 [==============================] - 3s 55us/step - loss: 0.1238 - accuracy: 0.8113 - val_loss: 0.1235 - val_accuracy: 0.8110\n",
      "Epoch 34/100\n",
      "48000/48000 [==============================] - 2s 48us/step - loss: 0.1225 - accuracy: 0.8115 - val_loss: 0.1222 - val_accuracy: 0.8111\n",
      "Epoch 35/100\n",
      "48000/48000 [==============================] - 2s 52us/step - loss: 0.1213 - accuracy: 0.8116 - val_loss: 0.1210 - val_accuracy: 0.8114\n",
      "Epoch 36/100\n",
      "48000/48000 [==============================] - 2s 46us/step - loss: 0.1201 - accuracy: 0.8118 - val_loss: 0.1198 - val_accuracy: 0.8114\n",
      "Epoch 37/100\n",
      "48000/48000 [==============================] - 2s 46us/step - loss: 0.1189 - accuracy: 0.8119 - val_loss: 0.1187 - val_accuracy: 0.8116\n",
      "Epoch 38/100\n",
      "48000/48000 [==============================] - 2s 47us/step - loss: 0.1178 - accuracy: 0.8121 - val_loss: 0.1176 - val_accuracy: 0.8118\n",
      "Epoch 39/100\n",
      "48000/48000 [==============================] - 2s 47us/step - loss: 0.1168 - accuracy: 0.8122 - val_loss: 0.1166 - val_accuracy: 0.8118\n",
      "Epoch 40/100\n",
      "48000/48000 [==============================] - 2s 50us/step - loss: 0.1158 - accuracy: 0.8123 - val_loss: 0.1156 - val_accuracy: 0.8120\n",
      "Epoch 41/100\n",
      "48000/48000 [==============================] - 3s 66us/step - loss: 0.1149 - accuracy: 0.8124 - val_loss: 0.1147 - val_accuracy: 0.8120\n",
      "Epoch 42/100\n",
      "48000/48000 [==============================] - 3s 66us/step - loss: 0.1140 - accuracy: 0.8125 - val_loss: 0.1139 - val_accuracy: 0.8122\n",
      "Epoch 43/100\n",
      "48000/48000 [==============================] - 3s 61us/step - loss: 0.1132 - accuracy: 0.8126 - val_loss: 0.1130 - val_accuracy: 0.8122\n",
      "Epoch 44/100\n",
      "48000/48000 [==============================] - 2s 50us/step - loss: 0.1124 - accuracy: 0.8127 - val_loss: 0.1123 - val_accuracy: 0.8123\n",
      "Epoch 45/100\n",
      "48000/48000 [==============================] - 2s 46us/step - loss: 0.1117 - accuracy: 0.8128 - val_loss: 0.1115 - val_accuracy: 0.8124\n",
      "Epoch 46/100\n",
      "48000/48000 [==============================] - 2s 50us/step - loss: 0.1110 - accuracy: 0.8129 - val_loss: 0.1108 - val_accuracy: 0.8125\n",
      "Epoch 47/100\n",
      "48000/48000 [==============================] - 2s 48us/step - loss: 0.1103 - accuracy: 0.8129 - val_loss: 0.1102 - val_accuracy: 0.8126\n",
      "Epoch 48/100\n",
      "48000/48000 [==============================] - 2s 50us/step - loss: 0.1097 - accuracy: 0.8130 - val_loss: 0.1096 - val_accuracy: 0.8127\n",
      "Epoch 49/100\n",
      "48000/48000 [==============================] - 2s 51us/step - loss: 0.1091 - accuracy: 0.8130 - val_loss: 0.1090 - val_accuracy: 0.8127\n",
      "Epoch 50/100\n",
      "48000/48000 [==============================] - 2s 50us/step - loss: 0.1085 - accuracy: 0.8131 - val_loss: 0.1085 - val_accuracy: 0.8127\n",
      "Epoch 51/100\n",
      "48000/48000 [==============================] - 2s 51us/step - loss: 0.1080 - accuracy: 0.8131 - val_loss: 0.1080 - val_accuracy: 0.8128\n",
      "Epoch 52/100\n",
      "48000/48000 [==============================] - 3s 55us/step - loss: 0.1075 - accuracy: 0.8132 - val_loss: 0.1075 - val_accuracy: 0.8128\n",
      "Epoch 53/100\n",
      "48000/48000 [==============================] - 2s 51us/step - loss: 0.1070 - accuracy: 0.8132 - val_loss: 0.1070 - val_accuracy: 0.8128\n",
      "Epoch 54/100\n",
      "48000/48000 [==============================] - 2s 50us/step - loss: 0.1066 - accuracy: 0.8133 - val_loss: 0.1066 - val_accuracy: 0.8129\n",
      "Epoch 55/100\n",
      "48000/48000 [==============================] - 2s 51us/step - loss: 0.1062 - accuracy: 0.8133 - val_loss: 0.1062 - val_accuracy: 0.8129\n"
     ]
    },
    {
     "name": "stdout",
     "output_type": "stream",
     "text": [
      "Epoch 56/100\n",
      "48000/48000 [==============================] - 2s 45us/step - loss: 0.1058 - accuracy: 0.8133 - val_loss: 0.1058 - val_accuracy: 0.8130\n",
      "Epoch 57/100\n",
      "48000/48000 [==============================] - 2s 46us/step - loss: 0.1054 - accuracy: 0.8134 - val_loss: 0.1054 - val_accuracy: 0.8130\n",
      "Epoch 58/100\n",
      "48000/48000 [==============================] - 2s 46us/step - loss: 0.1051 - accuracy: 0.8134 - val_loss: 0.1051 - val_accuracy: 0.8131\n",
      "Epoch 59/100\n",
      "48000/48000 [==============================] - 2s 47us/step - loss: 0.1047 - accuracy: 0.8134 - val_loss: 0.1048 - val_accuracy: 0.8131\n",
      "Epoch 60/100\n",
      "48000/48000 [==============================] - 2s 51us/step - loss: 0.1044 - accuracy: 0.8135 - val_loss: 0.1044 - val_accuracy: 0.8131\n",
      "Epoch 61/100\n",
      "48000/48000 [==============================] - 2s 52us/step - loss: 0.1041 - accuracy: 0.8135 - val_loss: 0.1042 - val_accuracy: 0.8131\n",
      "Epoch 62/100\n",
      "48000/48000 [==============================] - 2s 46us/step - loss: 0.1038 - accuracy: 0.8135 - val_loss: 0.1039 - val_accuracy: 0.8132\n",
      "Epoch 63/100\n",
      "48000/48000 [==============================] - 2s 48us/step - loss: 0.1035 - accuracy: 0.8135 - val_loss: 0.1036 - val_accuracy: 0.8131\n",
      "Epoch 64/100\n",
      "48000/48000 [==============================] - 2s 51us/step - loss: 0.1033 - accuracy: 0.8136 - val_loss: 0.1033 - val_accuracy: 0.8132\n",
      "Epoch 65/100\n",
      "48000/48000 [==============================] - 2s 48us/step - loss: 0.1030 - accuracy: 0.8136 - val_loss: 0.1031 - val_accuracy: 0.8132\n",
      "Epoch 66/100\n",
      "48000/48000 [==============================] - 2s 47us/step - loss: 0.1028 - accuracy: 0.8136 - val_loss: 0.1028 - val_accuracy: 0.8132\n",
      "Epoch 67/100\n",
      "48000/48000 [==============================] - 2s 50us/step - loss: 0.1026 - accuracy: 0.8136 - val_loss: 0.1026 - val_accuracy: 0.8132\n",
      "Epoch 68/100\n",
      "48000/48000 [==============================] - 2s 50us/step - loss: 0.1023 - accuracy: 0.8136 - val_loss: 0.1024 - val_accuracy: 0.8132\n",
      "Epoch 69/100\n",
      "48000/48000 [==============================] - 2s 51us/step - loss: 0.1021 - accuracy: 0.8137 - val_loss: 0.1022 - val_accuracy: 0.8133\n",
      "Epoch 70/100\n",
      "48000/48000 [==============================] - 2s 49us/step - loss: 0.1019 - accuracy: 0.8137 - val_loss: 0.1020 - val_accuracy: 0.8133\n",
      "Epoch 71/100\n",
      "48000/48000 [==============================] - 2s 48us/step - loss: 0.1018 - accuracy: 0.8137 - val_loss: 0.1018 - val_accuracy: 0.8133\n",
      "Epoch 72/100\n",
      "48000/48000 [==============================] - 3s 52us/step - loss: 0.1016 - accuracy: 0.8137 - val_loss: 0.1017 - val_accuracy: 0.8133\n",
      "Epoch 73/100\n",
      "48000/48000 [==============================] - 2s 52us/step - loss: 0.1014 - accuracy: 0.8137 - val_loss: 0.1015 - val_accuracy: 0.8133\n",
      "Epoch 74/100\n",
      "48000/48000 [==============================] - 2s 51us/step - loss: 0.1012 - accuracy: 0.8137 - val_loss: 0.1013 - val_accuracy: 0.8133\n",
      "Epoch 75/100\n",
      "48000/48000 [==============================] - 3s 52us/step - loss: 0.1011 - accuracy: 0.8137 - val_loss: 0.1012 - val_accuracy: 0.8133\n",
      "Epoch 76/100\n",
      "48000/48000 [==============================] - 2s 52us/step - loss: 0.1009 - accuracy: 0.8137 - val_loss: 0.1010 - val_accuracy: 0.8133\n",
      "Epoch 77/100\n",
      "48000/48000 [==============================] - 2s 51us/step - loss: 0.1008 - accuracy: 0.8138 - val_loss: 0.1009 - val_accuracy: 0.8134\n",
      "Epoch 78/100\n",
      "48000/48000 [==============================] - 2s 49us/step - loss: 0.1006 - accuracy: 0.8138 - val_loss: 0.1008 - val_accuracy: 0.8134\n",
      "Epoch 79/100\n",
      "48000/48000 [==============================] - 2s 48us/step - loss: 0.1005 - accuracy: 0.8138 - val_loss: 0.1007 - val_accuracy: 0.8134\n",
      "Epoch 80/100\n",
      "48000/48000 [==============================] - 2s 52us/step - loss: 0.1004 - accuracy: 0.8138 - val_loss: 0.1005 - val_accuracy: 0.8134\n",
      "Epoch 81/100\n",
      "48000/48000 [==============================] - 2s 50us/step - loss: 0.1003 - accuracy: 0.8138 - val_loss: 0.1004 - val_accuracy: 0.8134\n",
      "Epoch 82/100\n",
      "48000/48000 [==============================] - 2s 49us/step - loss: 0.1001 - accuracy: 0.8138 - val_loss: 0.1002 - val_accuracy: 0.8134\n",
      "Epoch 83/100\n",
      "48000/48000 [==============================] - 3s 53us/step - loss: 0.1000 - accuracy: 0.8138 - val_loss: 0.1002 - val_accuracy: 0.8134\n",
      "Epoch 84/100\n",
      "48000/48000 [==============================] - 2s 51us/step - loss: 0.0999 - accuracy: 0.8138 - val_loss: 0.1000 - val_accuracy: 0.8134\n",
      "Epoch 85/100\n",
      "48000/48000 [==============================] - 3s 53us/step - loss: 0.0998 - accuracy: 0.8138 - val_loss: 0.0999 - val_accuracy: 0.8134\n",
      "Epoch 86/100\n",
      "48000/48000 [==============================] - 2s 51us/step - loss: 0.0997 - accuracy: 0.8138 - val_loss: 0.0998 - val_accuracy: 0.8134\n",
      "Epoch 87/100\n",
      "48000/48000 [==============================] - 2s 51us/step - loss: 0.0996 - accuracy: 0.8138 - val_loss: 0.0997 - val_accuracy: 0.8134\n",
      "Epoch 88/100\n",
      "48000/48000 [==============================] - 3s 53us/step - loss: 0.0995 - accuracy: 0.8139 - val_loss: 0.0996 - val_accuracy: 0.8135\n",
      "Epoch 89/100\n",
      "48000/48000 [==============================] - 3s 54us/step - loss: 0.0994 - accuracy: 0.8139 - val_loss: 0.0995 - val_accuracy: 0.8135\n",
      "Epoch 90/100\n",
      "48000/48000 [==============================] - 3s 52us/step - loss: 0.0993 - accuracy: 0.8139 - val_loss: 0.0994 - val_accuracy: 0.8135\n",
      "Epoch 91/100\n",
      "48000/48000 [==============================] - 2s 48us/step - loss: 0.0992 - accuracy: 0.8139 - val_loss: 0.0993 - val_accuracy: 0.8135\n",
      "Epoch 92/100\n",
      "48000/48000 [==============================] - 3s 53us/step - loss: 0.0991 - accuracy: 0.8139 - val_loss: 0.0992 - val_accuracy: 0.8135\n",
      "Epoch 93/100\n",
      "48000/48000 [==============================] - 2s 50us/step - loss: 0.0990 - accuracy: 0.8139 - val_loss: 0.0991 - val_accuracy: 0.8135\n",
      "Epoch 94/100\n",
      "48000/48000 [==============================] - 3s 56us/step - loss: 0.0989 - accuracy: 0.8139 - val_loss: 0.0990 - val_accuracy: 0.8135\n",
      "Epoch 95/100\n",
      "48000/48000 [==============================] - 2s 51us/step - loss: 0.0988 - accuracy: 0.8139 - val_loss: 0.0990 - val_accuracy: 0.8135\n",
      "Epoch 96/100\n",
      "48000/48000 [==============================] - 2s 52us/step - loss: 0.0987 - accuracy: 0.8139 - val_loss: 0.0989 - val_accuracy: 0.8135\n",
      "Epoch 97/100\n",
      "48000/48000 [==============================] - 3s 53us/step - loss: 0.0986 - accuracy: 0.8139 - val_loss: 0.0988 - val_accuracy: 0.8135\n",
      "Epoch 98/100\n",
      "48000/48000 [==============================] - 2s 52us/step - loss: 0.0985 - accuracy: 0.8139 - val_loss: 0.0987 - val_accuracy: 0.8135\n",
      "Epoch 99/100\n",
      "48000/48000 [==============================] - 2s 51us/step - loss: 0.0985 - accuracy: 0.8139 - val_loss: 0.0986 - val_accuracy: 0.8135\n",
      "Epoch 100/100\n",
      "48000/48000 [==============================] - 2s 50us/step - loss: 0.0984 - accuracy: 0.8139 - val_loss: 0.0985 - val_accuracy: 0.8135\n"
     ]
    }
   ],
   "source": [
    "#Training the model\n",
    "history = autoencoder.fit(x_train, x_train, epochs=100, batch_size = 256, shuffle = True,\n",
    "              validation_data = (x_val,x_val))"
   ]
  },
  {
   "cell_type": "code",
   "execution_count": 12,
   "metadata": {},
   "outputs": [
    {
     "name": "stdout",
     "output_type": "stream",
     "text": [
      "dict_keys(['val_loss', 'val_accuracy', 'loss', 'accuracy'])\n"
     ]
    },
    {
     "data": {
      "image/png": "[encoded data removed]",
      "text/plain": [
       "<Figure size 432x288 with 1 Axes>"
      ]
     },
     "metadata": {
      "needs_background": "light"
     },
     "output_type": "display_data"
    },
    {
     "data": {
      "image/png": "[encoded data removed]",
      "text/plain": [
       "<Figure size 432x288 with 1 Axes>"
      ]
     },
     "metadata": {
      "needs_background": "light"
     },
     "output_type": "display_data"
    }
   ],
   "source": [
    "# Plot training loss and validation split loss over the epochs\n",
    "\n",
    "print(history.history.keys())\n",
    "# summarize history for accuracy\n",
    "plt.plot(history.history['accuracy'])\n",
    "plt.plot(history.history['val_accuracy'])\n",
    "plt.title('model accuracy')\n",
    "plt.ylabel('accuracy')\n",
    "plt.xlabel('epoch')\n",
    "plt.legend(['train', 'test'], loc='lower right')\n",
    "plt.savefig('sae_model_accuracy.png')\n",
    "plt.show()\n",
    "\n",
    "\n",
    "# summarize history for loss\n",
    "plt.plot(history.history['loss'])\n",
    "plt.plot(history.history['val_loss'])\n",
    "plt.title('model loss')\n",
    "plt.ylabel('loss')\n",
    "plt.xlabel('epoch')\n",
    "plt.legend(['train', 'test'], loc='upper right')\n",
    "plt.savefig('sae_model_loss.png')\n",
    "plt.show()"
   ]
  },
  {
   "cell_type": "code",
   "execution_count": 13,
   "metadata": {},
   "outputs": [],
   "source": [
    "# predicting on the test set\n",
    "reconstructed_imgs = autoencoder.predict(x_test)\n",
    "encoded_imgs = encoder.predict(x_test)"
   ]
  },
  {
   "cell_type": "code",
   "execution_count": 14,
   "metadata": {},
   "outputs": [
    {
     "name": "stdout",
     "output_type": "stream",
     "text": [
      "10000/10000 [==============================] - 1s 71us/step\n",
      "Loss: 0.09686534833908081\n",
      "Accuracy 81.29653930664062\n"
     ]
    }
   ],
   "source": [
    "# Evalution of the model on the test set\n",
    "evaluation = autoencoder.evaluate(x_test, x_test)\n",
    "\n",
    "print(\"Loss:\",evaluation[0])\n",
    "print(\"Accuracy\",evaluation[1]*100)"
   ]
  },
  {
   "cell_type": "code",
   "execution_count": 15,
   "metadata": {},
   "outputs": [
    {
     "data": {
      "text/plain": [
       "8.377721"
      ]
     },
     "execution_count": 15,
     "metadata": {},
     "output_type": "execute_result"
    }
   ],
   "source": [
    "#checkingthe encode images mean\n",
    "encoded_imgs.mean()"
   ]
  },
  {
   "cell_type": "code",
   "execution_count": 16,
   "metadata": {},
   "outputs": [
    {
     "data": {
      "image/png": "[encoded data removed]",
      "text/plain": [
       "<Figure size 1440x288 with 20 Axes>"
      ]
     },
     "metadata": {
      "needs_background": "light"
     },
     "output_type": "display_data"
    }
   ],
   "source": [
    "# Ploting the original input vs reconstructed output\n",
    "n = 10\n",
    "plt.figure(figsize =(20,4))\n",
    "\n",
    "for i in range(n):\n",
    "    ax = plt.subplot(2, n, i+1)\n",
    "    plt.imshow(x_test[i].reshape(28,28))\n",
    "    plt.gray()\n",
    "    ax.get_xaxis().set_visible(False)\n",
    "    ax.get_yaxis().set_visible(False)\n",
    "    \n",
    "    ax = plt.subplot(2,n, i+1+n)\n",
    "    plt.imshow(reconstructed_imgs[i].reshape(28,28))\n",
    "    plt.gray()\n",
    "    ax.get_xaxis().set_visible(False)\n",
    "    ax.get_yaxis().set_visible(False)\n",
    "\n",
    "plt.show()"
   ]
  },
  {
   "cell_type": "code",
   "execution_count": null,
   "metadata": {},
   "outputs": [],
   "source": []
  }
 ],
 "metadata": {
  "kernelspec": {
   "display_name": "Python 3",
   "language": "python",
   "name": "python3"
  },
  "language_info": {
   "codemirror_mode": {
    "name": "ipython",
    "version": 3
   },
   "file_extension": ".py",
   "mimetype": "text/x-python",
   "name": "python",
   "nbconvert_exporter": "python",
   "pygments_lexer": "ipython3",
   "version": "3.7.7"
  }
 },
 "nbformat": 4,
 "nbformat_minor": 4
}
